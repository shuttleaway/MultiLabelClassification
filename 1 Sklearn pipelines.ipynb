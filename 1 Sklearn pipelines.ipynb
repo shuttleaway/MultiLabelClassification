{
 "cells": [
  {
   "cell_type": "markdown",
   "metadata": {},
   "source": [
    "Runs through CountVectoriser and various machine learning models. (Binary relevance approach)"
   ]
  },
  {
   "cell_type": "markdown",
   "metadata": {},
   "source": [
    "# Sample codes"
   ]
  },
  {
   "cell_type": "code",
   "execution_count": 0,
   "metadata": {
    "colab": {},
    "colab_type": "code",
    "id": "8vgfONVOz1vg"
   },
   "outputs": [],
   "source": [
    "from sklearn.datasets import load_iris\n",
    "from sklearn.model_selection import train_test_split\n",
    "from sklearn.preprocessing import StandardScaler\n",
    "from sklearn.decomposition import PCA\n",
    "from sklearn.pipeline import Pipeline\n",
    "from sklearn.model_selection import GridSearchCV\n",
    "from sklearn.metrics import accuracy_score\n",
    "from sklearn.externals import joblib\n",
    "from sklearn.linear_model import LogisticRegression\n",
    "from sklearn.ensemble import RandomForestClassifier\n",
    "from sklearn import svm\n",
    "\n",
    "# Load and split the data\n",
    "iris = load_iris()\n",
    "X_train, X_test, y_train, y_test = train_test_split(iris.data, iris.target, test_size=0.2, random_state=42)\n",
    "\n",
    "# Construct some pipelines\n",
    "pipe_lr = Pipeline([('scl', StandardScaler()),\n",
    "\t\t\t('clf', LogisticRegression(random_state=42))])\n",
    "\n",
    "pipe_lr_pca = Pipeline([('scl', StandardScaler()),\n",
    "\t\t\t('pca', PCA(n_components=2)),\n",
    "\t\t\t('clf', LogisticRegression(random_state=42))])\n",
    "\n",
    "pipe_rf = Pipeline([('scl', StandardScaler()),\n",
    "\t\t\t('clf', RandomForestClassifier(random_state=42))])\n",
    "\n",
    "pipe_rf_pca = Pipeline([('scl', StandardScaler()),\n",
    "\t\t\t('pca', PCA(n_components=2)),\n",
    "\t\t\t('clf', RandomForestClassifier(random_state=42))])\n",
    "\n",
    "pipe_svm = Pipeline([('scl', StandardScaler()),\n",
    "\t\t\t('clf', svm.SVC(random_state=42))])\n",
    "\n",
    "pipe_svm_pca = Pipeline([('scl', StandardScaler()),\n",
    "\t\t\t('pca', PCA(n_components=2)),\n",
    "\t\t\t('clf', svm.SVC(random_state=42))])\n",
    "\t\t\t\n",
    "# Set grid search params\n",
    "param_range = [1, 2, 3, 4, 5, 6, 7, 8, 9, 10]\n",
    "param_range_fl = [1.0, 0.5, 0.1]\n",
    "\n",
    "grid_params_lr = [{'clf__penalty': ['l1', 'l2'],\n",
    "\t\t'clf__C': param_range_fl,\n",
    "\t\t'clf__solver': ['liblinear']}] \n",
    "\n",
    "grid_params_rf = [{'clf__criterion': ['gini', 'entropy'],\n",
    "\t\t'clf__min_samples_leaf': param_range,\n",
    "\t\t'clf__max_depth': param_range,\n",
    "\t\t'clf__min_samples_split': param_range[1:]}]\n",
    "\n",
    "grid_params_svm = [{'clf__kernel': ['linear', 'rbf'], \n",
    "\t\t'clf__C': param_range}]\n",
    "\n",
    "# Construct grid searches\n",
    "jobs = -1\n",
    "\n",
    "gs_lr = GridSearchCV(estimator=pipe_lr,\n",
    "\t\t\tparam_grid=grid_params_lr,\n",
    "\t\t\tscoring='accuracy',\n",
    "\t\t\tcv=10) \n",
    "\t\t\t\n",
    "gs_lr_pca = GridSearchCV(estimator=pipe_lr_pca,\n",
    "\t\t\tparam_grid=grid_params_lr,\n",
    "\t\t\tscoring='accuracy',\n",
    "\t\t\tcv=10)\n",
    "\t\t\t\n",
    "gs_rf = GridSearchCV(estimator=pipe_rf,\n",
    "\t\t\tparam_grid=grid_params_rf,\n",
    "\t\t\tscoring='accuracy',\n",
    "\t\t\tcv=10, \n",
    "\t\t\tn_jobs=jobs)\n",
    "\n",
    "gs_rf_pca = GridSearchCV(estimator=pipe_rf_pca,\n",
    "\t\t\tparam_grid=grid_params_rf,\n",
    "\t\t\tscoring='accuracy',\n",
    "\t\t\tcv=10, \n",
    "\t\t\tn_jobs=jobs)\n",
    "\n",
    "gs_svm = GridSearchCV(estimator=pipe_svm,\n",
    "\t\t\tparam_grid=grid_params_svm,\n",
    "\t\t\tscoring='accuracy',\n",
    "\t\t\tcv=10,\n",
    "\t\t\tn_jobs=jobs)\n",
    "\n",
    "gs_svm_pca = GridSearchCV(estimator=pipe_svm_pca,\n",
    "\t\t\tparam_grid=grid_params_svm,\n",
    "\t\t\tscoring='accuracy',\n",
    "\t\t\tcv=10,\n",
    "\t\t\tn_jobs=jobs)\n",
    "\n",
    "# List of pipelines for ease of iteration\n",
    "grids = [gs_lr, gs_lr_pca, gs_rf, gs_rf_pca, gs_svm, gs_svm_pca]\n",
    "\n",
    "# Dictionary of pipelines and classifier types for ease of reference\n",
    "grid_dict = {0: 'Logistic Regression', 1: 'Logistic Regression w/PCA', \n",
    "\t\t2: 'Random Forest', 3: 'Random Forest w/PCA', \n",
    "\t\t4: 'Support Vector Machine', 5: 'Support Vector Machine w/PCA'}\n",
    "\n",
    "# Fit the grid search objects\n",
    "print('Performing model optimizations...')\n",
    "best_acc = 0.0\n",
    "best_clf = 0\n",
    "best_gs = ''\n",
    "for idx, gs in enumerate(grids):\n",
    "\tprint('\\nEstimator: %s' % grid_dict[idx])\t\n",
    "\t# Fit grid search\t\n",
    "\tgs.fit(X_train, y_train)\n",
    "\t# Best params\n",
    "\tprint('Best params: %s' % gs.best_params_)\n",
    "\t# Best training data accuracy\n",
    "\tprint('Best training accuracy: %.3f' % gs.best_score_)\n",
    "\t# Predict on test data with best params\n",
    "\ty_pred = gs.predict(X_test)\n",
    "\t# Test data accuracy of model with best params\n",
    "\tprint('Test set accuracy score for best params: %.3f ' % accuracy_score(y_test, y_pred))\n",
    "\t# Track best (highest test accuracy) model\n",
    "\tif accuracy_score(y_test, y_pred) > best_acc:\n",
    "\t\tbest_acc = accuracy_score(y_test, y_pred)\n",
    "\t\tbest_gs = gs\n",
    "\t\tbest_clf = idx\n",
    "print('\\nClassifier with best test set accuracy: %s' % grid_dict[best_clf])\n",
    "\n",
    "# Save best grid search pipeline to file\n",
    "dump_file = 'best_gs_pipeline.pkl'\n",
    "joblib.dump(best_gs, dump_file, compress=1)\n",
    "print('\\nSaved %s grid search pipeline to file: %s' % (grid_dict[best_clf], dump_file))"
   ]
  },
  {
   "cell_type": "code",
   "execution_count": 0,
   "metadata": {
    "colab": {},
    "colab_type": "code",
    "id": "YVWqu2BYz1vm"
   },
   "outputs": [],
   "source": [
    "pipeline = Pipeline([\n",
    "    # Use FeatureUnion to combine the features from description and tweetSource\n",
    "    ('union', FeatureUnion(\n",
    "        transformer_list=[\n",
    "\n",
    "            ('tweetSource', Pipeline([\n",
    "                ('selector', ItemSelector(key='tweetSource')),\n",
    "                (\"pca\", PCA(n_components=5)), \n",
    "                (\"univ_select\", SelectKBest(k=3)),\n",
    "            ])),\n",
    "\n",
    "            # Pipeline for bag-of-words model for description\n",
    "            ('description', Pipeline([\n",
    "                ('selector', ItemSelector(key='description')),\n",
    "                ('tfidf', TfidfVectorizer()),\n",
    "                ('best', TruncatedSVD(n_components=50)),\n",
    "            ])),\n",
    "            \n",
    "            ('flag_org_in_desc', Pipeline([\n",
    "                ('selector', ItemSelector(key='flag_org_in_desc')),\n",
    "                #('array', ArrayCaster()),\n",
    "            ])),           \n",
    "             \n",
    "        ],\n",
    "\n",
    "        # weight components in FeatureUnion\n",
    "        transformer_weights={\n",
    "            'tweetSource': 0.5,\n",
    "            'description': 0.5,\n",
    "            'flag_org_in_desc': 0.5\n",
    "        },\n",
    "    )),\n",
    "\n",
    "    # Use a SVC classifier on the combined features\n",
    "    ('tree', RandomForestClassifier(n_estimators = 100, n_jobs=-1)),\n",
    "    \n",
    "])"
   ]
  },
  {
   "cell_type": "markdown",
   "metadata": {
    "colab_type": "text",
    "id": "Lbb6--8oz1vr"
   },
   "source": [
    "# Define Helper Functions"
   ]
  },
  {
   "cell_type": "code",
   "execution_count": 0,
   "metadata": {
    "colab": {},
    "colab_type": "code",
    "id": "n8B7PXBaz1vs"
   },
   "outputs": [],
   "source": [
    "import json\n",
    "\n",
    "def write_json(data,filename):\n",
    "    print(\"\")\n",
    "    \n",
    "def read_json(filename):\n",
    "    if filename:\n",
    "        with open(filename, 'r') as f:\n",
    "            datastore = json.load(f)\n",
    "    \n",
    "    return datastore"
   ]
  },
  {
   "cell_type": "code",
   "execution_count": 0,
   "metadata": {
    "colab": {},
    "colab_type": "code",
    "id": "tZTtqT9pz1vx"
   },
   "outputs": [],
   "source": [
    "import string\n",
    "\n",
    "def pre_process(text):\n",
    "    \n",
    "    tr = str.maketrans(\"\", \"\", string.punctuation)\n",
    "    text=text.translate(tr)\n",
    "    \n",
    "    words = text.split()\n",
    "    words = [word.lower() for word in words]\n",
    "    words = [word for word in words if word not in string.punctuation]\n",
    "    sentence = [' '.join(words)]\n",
    "    \n",
    "    return sentence\n",
    "\n",
    "#pre_process(\"At eight! o'clock on Thursday morning Arthur didn't feel very good.\")"
   ]
  },
  {
   "cell_type": "code",
   "execution_count": 0,
   "metadata": {
    "colab": {},
    "colab_type": "code",
    "id": "ZUqgwK18z1v1"
   },
   "outputs": [],
   "source": [
    "from sklearn.metrics import accuracy_score, precision_score, recall_score, f1_score\n",
    "\n",
    "def evalResults(y_test, y_pred): \n",
    "    a=accuracy_score(y_test, y_pred)\n",
    "    b=precision_score(y_test, y_pred,average='weighted')\n",
    "    c=recall_score(y_test, y_pred,average='weighted')\n",
    "    d=f1_score(y_test, y_pred,average='weighted')\n",
    "    \n",
    "    print(\"accuracy_score \"+str(a)+\" precision_score \"+str(b)+\" recall_score \"+str(c)+\" f1_score \"+str(d))\n",
    "    \n",
    "    return a\n",
    "    #return {'accuracy_score':a,'precision_score':b,'recall_score':c,'f1_score':d}"
   ]
  },
  {
   "cell_type": "code",
   "execution_count": 0,
   "metadata": {
    "colab": {},
    "colab_type": "code",
    "id": "BIlIxNEQz1v5"
   },
   "outputs": [],
   "source": [
    "from sklearn.model_selection import train_test_split\n",
    "\n",
    "def train(X,y,pipeline):\n",
    "    x_train, x_test, y_train, y_test = train_test_split(X, y,test_size=0.3,random_state =42)\n",
    "    pipeline.fit(x_train,y_train)\n",
    "    y_pred = pipeline.predict(x_test)\n",
    "    results=evalResults(y_test, y_pred)\n",
    "   \n",
    "    #y_val = pipeline.predict(val)\n",
    "    \n",
    "    return results"
   ]
  },
  {
   "cell_type": "code",
   "execution_count": 0,
   "metadata": {
    "colab": {},
    "colab_type": "code",
    "id": "vAjBDmijz1v-"
   },
   "outputs": [],
   "source": []
  },
  {
   "cell_type": "markdown",
   "metadata": {
    "colab_type": "text",
    "id": "uTEwC31vz1wC"
   },
   "source": [
    "# Define Models and GridSearch"
   ]
  },
  {
   "cell_type": "code",
   "execution_count": 0,
   "metadata": {
    "colab": {},
    "colab_type": "code",
    "id": "6zxeE1yaz1wD"
   },
   "outputs": [],
   "source": [
    "from sklearn.pipeline import Pipeline\n",
    "from sklearn.model_selection import GridSearchCV\n",
    "\n",
    "from sklearn.feature_extraction.text import CountVectorizer\n",
    "from sklearn.feature_extraction.text import TfidfTransformer\n",
    "\n",
    "from sklearn.decomposition import PCA\n",
    "\n",
    "from sklearn.linear_model import LogisticRegression\n",
    "from sklearn import svm\n",
    "from sklearn.naive_bayes import MultinomialNB\n",
    "from sklearn.neighbors import KNeighborsClassifier\n",
    "from sklearn.tree import DecisionTreeClassifier\n",
    "from sklearn.ensemble import RandomForestClassifier"
   ]
  },
  {
   "cell_type": "code",
   "execution_count": 0,
   "metadata": {
    "colab": {},
    "colab_type": "code",
    "id": "VHhxs2kxz1wI"
   },
   "outputs": [],
   "source": [
    "pipeline1 = Pipeline([\n",
    "    ('bow', CountVectorizer()),\n",
    "    ('model', DecisionTreeClassifier(random_state=0))\n",
    "])\n",
    "\n",
    "pipeline2 = Pipeline([\n",
    "    ('bow', CountVectorizer()),\n",
    "    ('model', RandomForestClassifier(random_state=0))\n",
    "])\n",
    "\n",
    "pipeline3 = Pipeline([\n",
    "    ('bow', CountVectorizer()),\n",
    "    ('tfidf', TfidfTransformer()),\n",
    "    ('model', RandomForestClassifier(random_state=0))\n",
    "])\n",
    "\n",
    "pipeline4 = Pipeline([\n",
    "    ('bow', CountVectorizer()),\n",
    "    ('tfidf', TfidfTransformer()),\n",
    "    ('model', MultinomialNB())\n",
    "])\n",
    "\n",
    "pipeline5 = Pipeline([\n",
    "    ('bow', CountVectorizer()),\n",
    "    ('tfidf', TfidfTransformer()),\n",
    "    ('model', svm.SVC(gamma='scale'))\n",
    "])\n",
    "\n",
    "pipeline6 = Pipeline([\n",
    "    ('bow', CountVectorizer()),\n",
    "    ('tfidf', TfidfTransformer()),\n",
    "    ('model', KNeighborsClassifier(n_neighbors=5, weights='uniform'))\n",
    "])\n",
    "\n",
    "pipeline7 = Pipeline([\n",
    "    ('bow', CountVectorizer()),\n",
    "    ('tfidf', TfidfTransformer()),\n",
    "    ('model', LogisticRegression(solver='sag', max_iter=100, random_state=0, multi_class='multinomial'))\n",
    "])\n",
    "\n",
    "pipelines=[pipeline1,pipeline2,pipeline3,pipeline4,pipeline6,pipeline7]\n",
    "\n",
    "pipelines_dict = {1: 'DecisionTreeClassifier', 2: 'RandomForestClassifier', 3: 'RandomForestClassifier w TDIDF', \n",
    "                  4: 'MultinomialNB', \n",
    "                  5: 'KNeighborsClassifier', 6: 'LogisticRegression',}\n",
    "\n",
    "\n",
    "from sklearn.externals import joblib\n",
    "\n",
    "def test_pipelines(X,y,pipelines,category):\n",
    "    results={}\n",
    "    for idx, gs in enumerate(pipelines):\n",
    "        print('\\nEstimator: %s' % pipelines_dict[idx+1])\n",
    "        performance = train(X,y,gs)\n",
    "        results[str(pipelines_dict[idx+1])]=performance\n",
    "        dump_file = category+'_'+str(pipelines_dict[idx+1])+'.pkl'\n",
    "        joblib.dump(gs, dump_file, compress=1)\n",
    "    \n",
    "    return results\n"
   ]
  },
  {
   "cell_type": "markdown",
   "metadata": {
    "colab_type": "text",
    "id": "NmNuxresz1wO"
   },
   "source": [
    "# Run through data"
   ]
  },
  {
   "cell_type": "code",
   "execution_count": null,
   "metadata": {
    "colab": {
     "base_uri": "https://localhost:8080/",
     "height": 122
    },
    "colab_type": "code",
    "executionInfo": {
     "elapsed": 18036,
     "status": "ok",
     "timestamp": 1551939949062,
     "user": {
      "displayName": "shuttletan",
      "photoUrl": "",
      "userId": "14903186212279910770"
     },
     "user_tz": -480
    },
    "id": "i7iKazat1AUT",
    "outputId": "de4a6efb-1940-43f2-b539-7a6ff1ce2fab",
    "scrolled": true
   },
   "outputs": [],
   "source": [
    "from google.colab import drive\n",
    "drive.mount('/content/gdrive')"
   ]
  },
  {
   "cell_type": "code",
   "execution_count": 0,
   "metadata": {
    "colab": {},
    "colab_type": "code",
    "id": "t-YVxNVFz1wQ"
   },
   "outputs": [],
   "source": [
    "#Define data files\n",
    "json_mobile='/content/gdrive/My Drive/Colab Notebooks/NDSC/mobile_profile_train.json'\n",
    "json_fashion='/content/gdrive/My Drive/Colab Notebooks/NDSC/fashion_profile_train.json'\n",
    "json_beauty='/content/gdrive/My Drive/Colab Notebooks/NDSC/beauty_profile_train.json'\n",
    "train_mobile='/content/gdrive/My Drive/Colab Notebooks/NDSC/mobile_data_info_train_competition.csv'\n",
    "train_fashion='/content/gdrive/My Drive/Colab Notebooks/NDSC/fashion_data_info_train_competition.csv'\n",
    "train_beauty='/content/gdrive/My Drive/Colab Notebooks/NDSC/beauty_data_info_train_competition.csv'\n",
    "val_mobile='/content/gdrive/My Drive/Colab Notebooks/NDSC/mobile_data_info_val_competition.csv'\n",
    "val_fashion='/content/gdrive/My Drive/Colab Notebooks/NDSC/fashion_data_info_val_competition.csv'\n",
    "val_beauty='/content/gdrive/My Drive/Colab Notebooks/NDSC/beauty_data_info_val_competition.csv'\n",
    "\n",
    "files = [json_mobile,json_fashion,json_beauty,train_mobile,train_fashion,train_beauty,val_mobile,val_fashion,val_beauty]"
   ]
  },
  {
   "cell_type": "code",
   "execution_count": 0,
   "metadata": {
    "colab": {
     "base_uri": "https://localhost:8080/",
     "height": 2737
    },
    "colab_type": "code",
    "executionInfo": {
     "elapsed": 1215657,
     "status": "ok",
     "timestamp": 1551941169269,
     "user": {
      "displayName": "shuttletan",
      "photoUrl": "",
      "userId": "14903186212279910770"
     },
     "user_tz": -480
    },
    "id": "HT_eDCjUz1wU",
    "outputId": "a65ea30c-7b8e-4dc3-a6be-47439b386cda"
   },
   "outputs": [
    {
     "name": "stdout",
     "output_type": "stream",
     "text": [
      "Performing model testing...\n",
      "Benefits\n",
      "\n",
      "Estimator: DecisionTreeClassifier\n",
      "accuracy_score 0.8679660668682303 precision_score 0.8685041570938932 recall_score 0.8679660668682303 f1_score 0.8679315289207213\n",
      "\n",
      "Estimator: RandomForestClassifier\n"
     ]
    },
    {
     "name": "stderr",
     "output_type": "stream",
     "text": [
      "/usr/local/lib/python3.6/dist-packages/sklearn/ensemble/forest.py:246: FutureWarning: The default value of n_estimators will change from 10 in version 0.20 to 100 in 0.22.\n",
      "  \"10 in version 0.20 to 100 in 0.22.\", FutureWarning)\n"
     ]
    },
    {
     "name": "stdout",
     "output_type": "stream",
     "text": [
      "accuracy_score 0.8728681715443097 precision_score 0.8736317906369266 recall_score 0.8728681715443097 f1_score 0.8728260213043312\n",
      "\n",
      "Estimator: RandomForestClassifier w TDIDF\n"
     ]
    },
    {
     "name": "stderr",
     "output_type": "stream",
     "text": [
      "/usr/local/lib/python3.6/dist-packages/sklearn/ensemble/forest.py:246: FutureWarning: The default value of n_estimators will change from 10 in version 0.20 to 100 in 0.22.\n",
      "  \"10 in version 0.20 to 100 in 0.22.\", FutureWarning)\n"
     ]
    },
    {
     "name": "stdout",
     "output_type": "stream",
     "text": [
      "accuracy_score 0.8687292687938474 precision_score 0.8704293280683646 recall_score 0.8687292687938474 f1_score 0.8687784520543956\n",
      "\n",
      "Estimator: MultinomialNB\n"
     ]
    },
    {
     "name": "stderr",
     "output_type": "stream",
     "text": [
      "/usr/local/lib/python3.6/dist-packages/sklearn/metrics/classification.py:1143: UndefinedMetricWarning: Precision is ill-defined and being set to 0.0 in labels with no predicted samples.\n",
      "  'precision', 'predicted', average, warn_for)\n",
      "/usr/local/lib/python3.6/dist-packages/sklearn/metrics/classification.py:1143: UndefinedMetricWarning: F-score is ill-defined and being set to 0.0 in labels with no predicted samples.\n",
      "  'precision', 'predicted', average, warn_for)\n"
     ]
    },
    {
     "name": "stdout",
     "output_type": "stream",
     "text": [
      "accuracy_score 0.7777027622038923 precision_score 0.787536237464487 recall_score 0.7777027622038923 f1_score 0.7729926203451098\n",
      "\n",
      "Estimator: KNeighborsClassifier\n",
      "accuracy_score 0.8277218422520327 precision_score 0.8288833885432095 recall_score 0.8277218422520327 f1_score 0.8273641330330225\n",
      "\n",
      "Estimator: LogisticRegression\n"
     ]
    },
    {
     "name": "stderr",
     "output_type": "stream",
     "text": [
      "/usr/local/lib/python3.6/dist-packages/sklearn/metrics/classification.py:1143: UndefinedMetricWarning: Precision is ill-defined and being set to 0.0 in labels with no predicted samples.\n",
      "  'precision', 'predicted', average, warn_for)\n",
      "/usr/local/lib/python3.6/dist-packages/sklearn/metrics/classification.py:1143: UndefinedMetricWarning: F-score is ill-defined and being set to 0.0 in labels with no predicted samples.\n",
      "  'precision', 'predicted', average, warn_for)\n"
     ]
    },
    {
     "name": "stdout",
     "output_type": "stream",
     "text": [
      "accuracy_score 0.8500308216162269 precision_score 0.8534711093678925 recall_score 0.8500308216162269 f1_score 0.8500969700789233\n",
      "Brand\n",
      "\n",
      "Estimator: DecisionTreeClassifier\n"
     ]
    },
    {
     "name": "stderr",
     "output_type": "stream",
     "text": [
      "/usr/local/lib/python3.6/dist-packages/sklearn/metrics/classification.py:1143: UndefinedMetricWarning: Precision is ill-defined and being set to 0.0 in labels with no predicted samples.\n",
      "  'precision', 'predicted', average, warn_for)\n",
      "/usr/local/lib/python3.6/dist-packages/sklearn/metrics/classification.py:1145: UndefinedMetricWarning: Recall is ill-defined and being set to 0.0 in labels with no true samples.\n",
      "  'recall', 'true', average, warn_for)\n",
      "/usr/local/lib/python3.6/dist-packages/sklearn/metrics/classification.py:1143: UndefinedMetricWarning: F-score is ill-defined and being set to 0.0 in labels with no predicted samples.\n",
      "  'precision', 'predicted', average, warn_for)\n",
      "/usr/local/lib/python3.6/dist-packages/sklearn/metrics/classification.py:1145: UndefinedMetricWarning: F-score is ill-defined and being set to 0.0 in labels with no true samples.\n",
      "  'recall', 'true', average, warn_for)\n"
     ]
    },
    {
     "name": "stdout",
     "output_type": "stream",
     "text": [
      "accuracy_score 0.9866459496913451 precision_score 0.9867304788774451 recall_score 0.9866459496913451 f1_score 0.9865639153108365\n",
      "\n",
      "Estimator: RandomForestClassifier\n"
     ]
    },
    {
     "name": "stderr",
     "output_type": "stream",
     "text": [
      "/usr/local/lib/python3.6/dist-packages/sklearn/metrics/classification.py:1143: UndefinedMetricWarning: Precision is ill-defined and being set to 0.0 in labels with no predicted samples.\n",
      "  'precision', 'predicted', average, warn_for)\n",
      "/usr/local/lib/python3.6/dist-packages/sklearn/metrics/classification.py:1145: UndefinedMetricWarning: Recall is ill-defined and being set to 0.0 in labels with no true samples.\n",
      "  'recall', 'true', average, warn_for)\n",
      "/usr/local/lib/python3.6/dist-packages/sklearn/metrics/classification.py:1143: UndefinedMetricWarning: F-score is ill-defined and being set to 0.0 in labels with no predicted samples.\n",
      "  'precision', 'predicted', average, warn_for)\n",
      "/usr/local/lib/python3.6/dist-packages/sklearn/metrics/classification.py:1145: UndefinedMetricWarning: F-score is ill-defined and being set to 0.0 in labels with no true samples.\n",
      "  'recall', 'true', average, warn_for)\n"
     ]
    },
    {
     "name": "stdout",
     "output_type": "stream",
     "text": [
      "accuracy_score 0.9842103052954269 precision_score 0.9832057628255125 recall_score 0.9842103052954269 f1_score 0.9834190782180428\n",
      "\n",
      "Estimator: RandomForestClassifier w TDIDF\n"
     ]
    },
    {
     "name": "stderr",
     "output_type": "stream",
     "text": [
      "/usr/local/lib/python3.6/dist-packages/sklearn/metrics/classification.py:1143: UndefinedMetricWarning: Precision is ill-defined and being set to 0.0 in labels with no predicted samples.\n",
      "  'precision', 'predicted', average, warn_for)\n",
      "/usr/local/lib/python3.6/dist-packages/sklearn/metrics/classification.py:1145: UndefinedMetricWarning: Recall is ill-defined and being set to 0.0 in labels with no true samples.\n",
      "  'recall', 'true', average, warn_for)\n",
      "/usr/local/lib/python3.6/dist-packages/sklearn/metrics/classification.py:1143: UndefinedMetricWarning: F-score is ill-defined and being set to 0.0 in labels with no predicted samples.\n",
      "  'precision', 'predicted', average, warn_for)\n",
      "/usr/local/lib/python3.6/dist-packages/sklearn/metrics/classification.py:1145: UndefinedMetricWarning: F-score is ill-defined and being set to 0.0 in labels with no true samples.\n",
      "  'recall', 'true', average, warn_for)\n"
     ]
    },
    {
     "name": "stdout",
     "output_type": "stream",
     "text": [
      "accuracy_score 0.9864079844342726 precision_score 0.986031931265279 recall_score 0.9864079844342726 f1_score 0.9860395647069295\n",
      "\n",
      "Estimator: MultinomialNB\n"
     ]
    },
    {
     "name": "stderr",
     "output_type": "stream",
     "text": [
      "/usr/local/lib/python3.6/dist-packages/sklearn/metrics/classification.py:1143: UndefinedMetricWarning: Precision is ill-defined and being set to 0.0 in labels with no predicted samples.\n",
      "  'precision', 'predicted', average, warn_for)\n",
      "/usr/local/lib/python3.6/dist-packages/sklearn/metrics/classification.py:1143: UndefinedMetricWarning: F-score is ill-defined and being set to 0.0 in labels with no predicted samples.\n",
      "  'precision', 'predicted', average, warn_for)\n"
     ]
    },
    {
     "name": "stdout",
     "output_type": "stream",
     "text": [
      "accuracy_score 0.8559050378644718 precision_score 0.8648338684400722 recall_score 0.8559050378644718 f1_score 0.8319837327629165\n",
      "\n",
      "Estimator: KNeighborsClassifier\n"
     ]
    },
    {
     "name": "stderr",
     "output_type": "stream",
     "text": [
      "/usr/local/lib/python3.6/dist-packages/sklearn/metrics/classification.py:1143: UndefinedMetricWarning: Precision is ill-defined and being set to 0.0 in labels with no predicted samples.\n",
      "  'precision', 'predicted', average, warn_for)\n",
      "/usr/local/lib/python3.6/dist-packages/sklearn/metrics/classification.py:1143: UndefinedMetricWarning: F-score is ill-defined and being set to 0.0 in labels with no predicted samples.\n",
      "  'precision', 'predicted', average, warn_for)\n"
     ]
    },
    {
     "name": "stdout",
     "output_type": "stream",
     "text": [
      "accuracy_score 0.963171376978961 precision_score 0.9621906207576043 recall_score 0.963171376978961 f1_score 0.9622155385347858\n",
      "\n",
      "Estimator: LogisticRegression\n",
      "accuracy_score 0.9860440375705147 precision_score 0.9869573357680049 recall_score 0.9860440375705147 f1_score 0.9858290279507133\n",
      "Colour_group\n",
      "\n",
      "Estimator: DecisionTreeClassifier\n",
      "accuracy_score 0.8621352821583603 precision_score 0.8636680124811001 recall_score 0.8621352821583603 f1_score 0.8626591550743901\n",
      "\n",
      "Estimator: RandomForestClassifier\n"
     ]
    },
    {
     "name": "stderr",
     "output_type": "stream",
     "text": [
      "/usr/local/lib/python3.6/dist-packages/sklearn/metrics/classification.py:1143: UndefinedMetricWarning: Precision is ill-defined and being set to 0.0 in labels with no predicted samples.\n",
      "  'precision', 'predicted', average, warn_for)\n",
      "/usr/local/lib/python3.6/dist-packages/sklearn/metrics/classification.py:1143: UndefinedMetricWarning: F-score is ill-defined and being set to 0.0 in labels with no predicted samples.\n",
      "  'precision', 'predicted', average, warn_for)\n"
     ]
    },
    {
     "name": "stdout",
     "output_type": "stream",
     "text": [
      "accuracy_score 0.8652398483433156 precision_score 0.8677781383217507 recall_score 0.8652398483433156 f1_score 0.8656279129700002\n",
      "\n",
      "Estimator: RandomForestClassifier w TDIDF\n"
     ]
    },
    {
     "name": "stderr",
     "output_type": "stream",
     "text": [
      "/usr/local/lib/python3.6/dist-packages/sklearn/metrics/classification.py:1143: UndefinedMetricWarning: Precision is ill-defined and being set to 0.0 in labels with no predicted samples.\n",
      "  'precision', 'predicted', average, warn_for)\n",
      "/usr/local/lib/python3.6/dist-packages/sklearn/metrics/classification.py:1143: UndefinedMetricWarning: F-score is ill-defined and being set to 0.0 in labels with no predicted samples.\n",
      "  'precision', 'predicted', average, warn_for)\n"
     ]
    },
    {
     "name": "stdout",
     "output_type": "stream",
     "text": [
      "accuracy_score 0.8648002637507556 precision_score 0.8708543123167615 recall_score 0.8648002637507556 f1_score 0.865481086058399\n",
      "\n",
      "Estimator: MultinomialNB\n"
     ]
    },
    {
     "name": "stderr",
     "output_type": "stream",
     "text": [
      "/usr/local/lib/python3.6/dist-packages/sklearn/metrics/classification.py:1143: UndefinedMetricWarning: Precision is ill-defined and being set to 0.0 in labels with no predicted samples.\n",
      "  'precision', 'predicted', average, warn_for)\n",
      "/usr/local/lib/python3.6/dist-packages/sklearn/metrics/classification.py:1143: UndefinedMetricWarning: F-score is ill-defined and being set to 0.0 in labels with no predicted samples.\n",
      "  'precision', 'predicted', average, warn_for)\n"
     ]
    },
    {
     "name": "stdout",
     "output_type": "stream",
     "text": [
      "accuracy_score 0.7067970767624595 precision_score 0.7622520283894805 recall_score 0.7067970767624595 f1_score 0.6959758476478188\n",
      "\n",
      "Estimator: KNeighborsClassifier\n"
     ]
    },
    {
     "name": "stderr",
     "output_type": "stream",
     "text": [
      "/usr/local/lib/python3.6/dist-packages/sklearn/metrics/classification.py:1143: UndefinedMetricWarning: Precision is ill-defined and being set to 0.0 in labels with no predicted samples.\n",
      "  'precision', 'predicted', average, warn_for)\n",
      "/usr/local/lib/python3.6/dist-packages/sklearn/metrics/classification.py:1145: UndefinedMetricWarning: Recall is ill-defined and being set to 0.0 in labels with no true samples.\n",
      "  'recall', 'true', average, warn_for)\n",
      "/usr/local/lib/python3.6/dist-packages/sklearn/metrics/classification.py:1143: UndefinedMetricWarning: F-score is ill-defined and being set to 0.0 in labels with no predicted samples.\n",
      "  'precision', 'predicted', average, warn_for)\n",
      "/usr/local/lib/python3.6/dist-packages/sklearn/metrics/classification.py:1145: UndefinedMetricWarning: F-score is ill-defined and being set to 0.0 in labels with no true samples.\n",
      "  'recall', 'true', average, warn_for)\n"
     ]
    },
    {
     "name": "stdout",
     "output_type": "stream",
     "text": [
      "accuracy_score 0.7932853453486455 precision_score 0.7979823574927868 recall_score 0.7932853453486455 f1_score 0.7929072271283415\n",
      "\n",
      "Estimator: LogisticRegression\n",
      "accuracy_score 0.8520248365294797 precision_score 0.8666622064355025 recall_score 0.8520248365294797 f1_score 0.8534293737270732\n",
      "Product_texture\n",
      "\n",
      "Estimator: DecisionTreeClassifier\n",
      "accuracy_score 0.9859733384273219 precision_score 0.9859688494441508 recall_score 0.9859733384273219 f1_score 0.985963516593219\n",
      "\n",
      "Estimator: RandomForestClassifier\n",
      "accuracy_score 0.9866555690485612 precision_score 0.9866555678212453 recall_score 0.9866555690485612 f1_score 0.9866440227437512\n",
      "\n",
      "Estimator: RandomForestClassifier w TDIDF\n",
      "accuracy_score 0.9857959584657998 precision_score 0.9858117440027432 recall_score 0.9857959584657998 f1_score 0.985789342842853\n",
      "\n",
      "Estimator: MultinomialNB\n",
      "accuracy_score 0.938067104203905 precision_score 0.9393785637971535 recall_score 0.938067104203905 f1_score 0.9358363271776003\n",
      "\n",
      "Estimator: KNeighborsClassifier\n",
      "accuracy_score 0.9490237279810066 precision_score 0.9490972508215355 recall_score 0.9490237279810066 f1_score 0.9490007855465311\n",
      "\n",
      "Estimator: LogisticRegression\n",
      "accuracy_score 0.9858096030782245 precision_score 0.9858457613704866 recall_score 0.9858096030782245 f1_score 0.9857863909013937\n",
      "Skin_type\n",
      "\n",
      "Estimator: DecisionTreeClassifier\n",
      "accuracy_score 0.8330765279917822 precision_score 0.8331308952805198 recall_score 0.8330765279917822 f1_score 0.8329256281218342\n",
      "\n",
      "Estimator: RandomForestClassifier\n",
      "accuracy_score 0.8454031843862352 precision_score 0.845588763662827 recall_score 0.8454031843862352 f1_score 0.8446608632093952\n",
      "\n",
      "Estimator: RandomForestClassifier w TDIDF\n",
      "accuracy_score 0.8386121097985505 precision_score 0.840385348770212 recall_score 0.8386121097985505 f1_score 0.8376739497539628\n",
      "\n",
      "Estimator: MultinomialNB\n",
      "accuracy_score 0.7279575415168635 precision_score 0.7535349392678001 recall_score 0.7279575415168635 f1_score 0.7172458840069137\n",
      "\n",
      "Estimator: KNeighborsClassifier\n",
      "accuracy_score 0.8117331507162016 precision_score 0.8109980910844183 recall_score 0.8117331507162016 f1_score 0.8107576866819525\n",
      "\n",
      "Estimator: LogisticRegression\n",
      "accuracy_score 0.8107629972036752 precision_score 0.8139704399506531 recall_score 0.8107629972036752 f1_score 0.8102983673861776\n"
     ]
    }
   ],
   "source": [
    "import pandas as pd\n",
    "print('Performing model testing...')\n",
    "\n",
    "beauty1=pd.read_csv(files[5])\n",
    "\n",
    "data=beauty1\n",
    "\n",
    "performance={}\n",
    "output=pd.DataFrame()\n",
    "for i in range(3,len(data.columns)):\n",
    "    print(data.columns[i])\n",
    "    df=pd.DataFrame(data['title'])\n",
    "    df[data.columns[i]]=data[data.columns[i]]\n",
    "    df=df.dropna()\n",
    "    result = test_pipelines(df.title,df[data.columns[i]],pipelines,data.columns[i])\n",
    "    performance[data.columns[i]]=result\n"
   ]
  },
  {
   "cell_type": "code",
   "execution_count": 0,
   "metadata": {
    "colab": {
     "base_uri": "https://localhost:8080/",
     "height": 235
    },
    "colab_type": "code",
    "executionInfo": {
     "elapsed": 1205112,
     "status": "ok",
     "timestamp": 1551941169271,
     "user": {
      "displayName": "shuttletan",
      "photoUrl": "",
      "userId": "14903186212279910770"
     },
     "user_tz": -480
    },
    "id": "KfooaHW7z1wc",
    "outputId": "876fb8a8-de50-47f5-dfcf-a8f167188cda"
   },
   "outputs": [
    {
     "data": {
      "text/html": [
       "<div>\n",
       "<style scoped>\n",
       "    .dataframe tbody tr th:only-of-type {\n",
       "        vertical-align: middle;\n",
       "    }\n",
       "\n",
       "    .dataframe tbody tr th {\n",
       "        vertical-align: top;\n",
       "    }\n",
       "\n",
       "    .dataframe thead th {\n",
       "        text-align: right;\n",
       "    }\n",
       "</style>\n",
       "<table border=\"1\" class=\"dataframe\">\n",
       "  <thead>\n",
       "    <tr style=\"text-align: right;\">\n",
       "      <th></th>\n",
       "      <th>Benefits</th>\n",
       "      <th>Brand</th>\n",
       "      <th>Colour_group</th>\n",
       "      <th>Product_texture</th>\n",
       "      <th>Skin_type</th>\n",
       "    </tr>\n",
       "  </thead>\n",
       "  <tbody>\n",
       "    <tr>\n",
       "      <th>DecisionTreeClassifier</th>\n",
       "      <td>0.867966</td>\n",
       "      <td>0.986646</td>\n",
       "      <td>0.862135</td>\n",
       "      <td>0.985973</td>\n",
       "      <td>0.833077</td>\n",
       "    </tr>\n",
       "    <tr>\n",
       "      <th>KNeighborsClassifier</th>\n",
       "      <td>0.827722</td>\n",
       "      <td>0.963171</td>\n",
       "      <td>0.793285</td>\n",
       "      <td>0.949024</td>\n",
       "      <td>0.811733</td>\n",
       "    </tr>\n",
       "    <tr>\n",
       "      <th>LogisticRegression</th>\n",
       "      <td>0.850031</td>\n",
       "      <td>0.986044</td>\n",
       "      <td>0.852025</td>\n",
       "      <td>0.985810</td>\n",
       "      <td>0.810763</td>\n",
       "    </tr>\n",
       "    <tr>\n",
       "      <th>MultinomialNB</th>\n",
       "      <td>0.777703</td>\n",
       "      <td>0.855905</td>\n",
       "      <td>0.706797</td>\n",
       "      <td>0.938067</td>\n",
       "      <td>0.727958</td>\n",
       "    </tr>\n",
       "    <tr>\n",
       "      <th>RandomForestClassifier</th>\n",
       "      <td>0.872868</td>\n",
       "      <td>0.984210</td>\n",
       "      <td>0.865240</td>\n",
       "      <td>0.986656</td>\n",
       "      <td>0.845403</td>\n",
       "    </tr>\n",
       "    <tr>\n",
       "      <th>RandomForestClassifier w TDIDF</th>\n",
       "      <td>0.868729</td>\n",
       "      <td>0.986408</td>\n",
       "      <td>0.864800</td>\n",
       "      <td>0.985796</td>\n",
       "      <td>0.838612</td>\n",
       "    </tr>\n",
       "  </tbody>\n",
       "</table>\n",
       "</div>"
      ],
      "text/plain": [
       "                                Benefits     Brand  Colour_group  \\\n",
       "DecisionTreeClassifier          0.867966  0.986646      0.862135   \n",
       "KNeighborsClassifier            0.827722  0.963171      0.793285   \n",
       "LogisticRegression              0.850031  0.986044      0.852025   \n",
       "MultinomialNB                   0.777703  0.855905      0.706797   \n",
       "RandomForestClassifier          0.872868  0.984210      0.865240   \n",
       "RandomForestClassifier w TDIDF  0.868729  0.986408      0.864800   \n",
       "\n",
       "                                Product_texture  Skin_type  \n",
       "DecisionTreeClassifier                 0.985973   0.833077  \n",
       "KNeighborsClassifier                   0.949024   0.811733  \n",
       "LogisticRegression                     0.985810   0.810763  \n",
       "MultinomialNB                          0.938067   0.727958  \n",
       "RandomForestClassifier                 0.986656   0.845403  \n",
       "RandomForestClassifier w TDIDF         0.985796   0.838612  "
      ]
     },
     "execution_count": 16,
     "metadata": {
      "tags": []
     },
     "output_type": "execute_result"
    }
   ],
   "source": [
    "pd.DataFrame.from_dict(performance)"
   ]
  },
  {
   "cell_type": "code",
   "execution_count": 0,
   "metadata": {
    "colab": {},
    "colab_type": "code",
    "id": "3bnNdFRz2iE_"
   },
   "outputs": [],
   "source": [
    "temp=pd.DataFrame.from_dict(performance)\n",
    "temp.to_csv('performance_beauty.csv',index=False)"
   ]
  },
  {
   "cell_type": "code",
   "execution_count": 0,
   "metadata": {
    "colab": {
     "base_uri": "https://localhost:8080/",
     "height": 2397
    },
    "colab_type": "code",
    "executionInfo": {
     "elapsed": 1742666,
     "status": "ok",
     "timestamp": 1551943176418,
     "user": {
      "displayName": "shuttletan",
      "photoUrl": "",
      "userId": "14903186212279910770"
     },
     "user_tz": -480
    },
    "id": "fT9KYdiY2Qzm",
    "outputId": "36a0781b-0c08-4e48-8b07-8d73a3293d6a"
   },
   "outputs": [
    {
     "name": "stdout",
     "output_type": "stream",
     "text": [
      "Performing model testing...\n",
      "Pattern\n",
      "\n",
      "Estimator: DecisionTreeClassifier\n",
      "accuracy_score 0.9279213391841378 precision_score 0.9289674552814453 recall_score 0.9279213391841378 f1_score 0.928303269639738\n",
      "\n",
      "Estimator: RandomForestClassifier\n"
     ]
    },
    {
     "name": "stderr",
     "output_type": "stream",
     "text": [
      "/usr/local/lib/python3.6/dist-packages/sklearn/ensemble/forest.py:246: FutureWarning: The default value of n_estimators will change from 10 in version 0.20 to 100 in 0.22.\n",
      "  \"10 in version 0.20 to 100 in 0.22.\", FutureWarning)\n"
     ]
    },
    {
     "name": "stdout",
     "output_type": "stream",
     "text": [
      "accuracy_score 0.9063668129367788 precision_score 0.9058901625165294 recall_score 0.9063668129367788 f1_score 0.9042511899141106\n",
      "\n",
      "Estimator: RandomForestClassifier w TDIDF\n"
     ]
    },
    {
     "name": "stderr",
     "output_type": "stream",
     "text": [
      "/usr/local/lib/python3.6/dist-packages/sklearn/ensemble/forest.py:246: FutureWarning: The default value of n_estimators will change from 10 in version 0.20 to 100 in 0.22.\n",
      "  \"10 in version 0.20 to 100 in 0.22.\", FutureWarning)\n"
     ]
    },
    {
     "name": "stdout",
     "output_type": "stream",
     "text": [
      "accuracy_score 0.9021818625060946 precision_score 0.9011102074668764 recall_score 0.9021818625060946 f1_score 0.8995787318889213\n",
      "\n",
      "Estimator: MultinomialNB\n"
     ]
    },
    {
     "name": "stderr",
     "output_type": "stream",
     "text": [
      "/usr/local/lib/python3.6/dist-packages/sklearn/metrics/classification.py:1143: UndefinedMetricWarning: Precision is ill-defined and being set to 0.0 in labels with no predicted samples.\n",
      "  'precision', 'predicted', average, warn_for)\n",
      "/usr/local/lib/python3.6/dist-packages/sklearn/metrics/classification.py:1143: UndefinedMetricWarning: F-score is ill-defined and being set to 0.0 in labels with no predicted samples.\n",
      "  'precision', 'predicted', average, warn_for)\n"
     ]
    },
    {
     "name": "stdout",
     "output_type": "stream",
     "text": [
      "accuracy_score 0.7739314155696408 precision_score 0.7925558680293717 recall_score 0.7739314155696408 f1_score 0.7327968113753902\n",
      "\n",
      "Estimator: KNeighborsClassifier\n",
      "accuracy_score 0.8115147082723875 precision_score 0.8115545482381237 recall_score 0.8115147082723875 f1_score 0.8065461824265633\n",
      "\n",
      "Estimator: LogisticRegression\n",
      "accuracy_score 0.9350926377376889 precision_score 0.9422366297756087 recall_score 0.9350926377376889 f1_score 0.9369602331611113\n",
      "Collar Type\n",
      "\n",
      "Estimator: DecisionTreeClassifier\n",
      "accuracy_score 0.8176405021705972 precision_score 0.8185457658010893 recall_score 0.8176405021705972 f1_score 0.8179971065822939\n",
      "\n",
      "Estimator: RandomForestClassifier\n",
      "accuracy_score 0.8219523641910126 precision_score 0.8260496641998112 recall_score 0.8219523641910126 f1_score 0.8212034858800243\n",
      "\n",
      "Estimator: RandomForestClassifier w TDIDF\n",
      "accuracy_score 0.8104833978646017 precision_score 0.8156920337036676 recall_score 0.8104833978646017 f1_score 0.8097217951413705\n",
      "\n",
      "Estimator: MultinomialNB\n"
     ]
    },
    {
     "name": "stderr",
     "output_type": "stream",
     "text": [
      "/usr/local/lib/python3.6/dist-packages/sklearn/metrics/classification.py:1143: UndefinedMetricWarning: Precision is ill-defined and being set to 0.0 in labels with no predicted samples.\n",
      "  'precision', 'predicted', average, warn_for)\n",
      "/usr/local/lib/python3.6/dist-packages/sklearn/metrics/classification.py:1143: UndefinedMetricWarning: F-score is ill-defined and being set to 0.0 in labels with no predicted samples.\n",
      "  'precision', 'predicted', average, warn_for)\n"
     ]
    },
    {
     "name": "stdout",
     "output_type": "stream",
     "text": [
      "accuracy_score 0.7176170362548399 precision_score 0.7452409447294929 recall_score 0.7176170362548399 f1_score 0.6848328193258741\n",
      "\n",
      "Estimator: KNeighborsClassifier\n"
     ]
    },
    {
     "name": "stderr",
     "output_type": "stream",
     "text": [
      "/usr/local/lib/python3.6/dist-packages/sklearn/metrics/classification.py:1143: UndefinedMetricWarning: Precision is ill-defined and being set to 0.0 in labels with no predicted samples.\n",
      "  'precision', 'predicted', average, warn_for)\n",
      "/usr/local/lib/python3.6/dist-packages/sklearn/metrics/classification.py:1143: UndefinedMetricWarning: F-score is ill-defined and being set to 0.0 in labels with no predicted samples.\n",
      "  'precision', 'predicted', average, warn_for)\n"
     ]
    },
    {
     "name": "stdout",
     "output_type": "stream",
     "text": [
      "accuracy_score 0.7264167546638508 precision_score 0.7342557426809688 recall_score 0.7264167546638508 f1_score 0.7255418464822068\n",
      "\n",
      "Estimator: LogisticRegression\n",
      "accuracy_score 0.8215710430599554 precision_score 0.824059826839459 recall_score 0.8215710430599554 f1_score 0.8206878976840783\n",
      "Fashion Trend\n",
      "\n",
      "Estimator: DecisionTreeClassifier\n",
      "accuracy_score 0.9110275121243712 precision_score 0.9109846165467661 recall_score 0.9110275121243712 f1_score 0.910908273778328\n",
      "\n",
      "Estimator: RandomForestClassifier\n",
      "accuracy_score 0.9028690567919141 precision_score 0.9028793226124721 recall_score 0.9028690567919141 f1_score 0.9017647776531194\n",
      "\n",
      "Estimator: RandomForestClassifier w TDIDF\n",
      "accuracy_score 0.8951865113538503 precision_score 0.8955199098335332 recall_score 0.8951865113538503 f1_score 0.8937164389412626\n",
      "\n",
      "Estimator: MultinomialNB\n"
     ]
    },
    {
     "name": "stderr",
     "output_type": "stream",
     "text": [
      "/usr/local/lib/python3.6/dist-packages/sklearn/metrics/classification.py:1143: UndefinedMetricWarning: Precision is ill-defined and being set to 0.0 in labels with no predicted samples.\n",
      "  'precision', 'predicted', average, warn_for)\n",
      "/usr/local/lib/python3.6/dist-packages/sklearn/metrics/classification.py:1143: UndefinedMetricWarning: F-score is ill-defined and being set to 0.0 in labels with no predicted samples.\n",
      "  'precision', 'predicted', average, warn_for)\n"
     ]
    },
    {
     "name": "stdout",
     "output_type": "stream",
     "text": [
      "accuracy_score 0.7992566740697095 precision_score 0.8196146317338838 recall_score 0.7992566740697095 f1_score 0.7847006198703046\n",
      "\n",
      "Estimator: KNeighborsClassifier\n",
      "accuracy_score 0.8095227303630512 precision_score 0.8097357608196236 recall_score 0.8095227303630512 f1_score 0.8082511787722844\n",
      "\n",
      "Estimator: LogisticRegression\n"
     ]
    },
    {
     "name": "stderr",
     "output_type": "stream",
     "text": [
      "/usr/local/lib/python3.6/dist-packages/sklearn/metrics/classification.py:1143: UndefinedMetricWarning: Precision is ill-defined and being set to 0.0 in labels with no predicted samples.\n",
      "  'precision', 'predicted', average, warn_for)\n",
      "/usr/local/lib/python3.6/dist-packages/sklearn/metrics/classification.py:1143: UndefinedMetricWarning: F-score is ill-defined and being set to 0.0 in labels with no predicted samples.\n",
      "  'precision', 'predicted', average, warn_for)\n"
     ]
    },
    {
     "name": "stdout",
     "output_type": "stream",
     "text": [
      "accuracy_score 0.9161945338349272 precision_score 0.9182741720784864 recall_score 0.9161945338349272 f1_score 0.916007785483325\n",
      "Clothing Material\n",
      "\n",
      "Estimator: DecisionTreeClassifier\n"
     ]
    },
    {
     "name": "stderr",
     "output_type": "stream",
     "text": [
      "/usr/local/lib/python3.6/dist-packages/sklearn/metrics/classification.py:1143: UndefinedMetricWarning: Precision is ill-defined and being set to 0.0 in labels with no predicted samples.\n",
      "  'precision', 'predicted', average, warn_for)\n",
      "/usr/local/lib/python3.6/dist-packages/sklearn/metrics/classification.py:1143: UndefinedMetricWarning: F-score is ill-defined and being set to 0.0 in labels with no predicted samples.\n",
      "  'precision', 'predicted', average, warn_for)\n"
     ]
    },
    {
     "name": "stdout",
     "output_type": "stream",
     "text": [
      "accuracy_score 0.8590693257359924 precision_score 0.8604414756278641 recall_score 0.8590693257359924 f1_score 0.8595136607758128\n",
      "\n",
      "Estimator: RandomForestClassifier\n"
     ]
    },
    {
     "name": "stderr",
     "output_type": "stream",
     "text": [
      "/usr/local/lib/python3.6/dist-packages/sklearn/metrics/classification.py:1143: UndefinedMetricWarning: Precision is ill-defined and being set to 0.0 in labels with no predicted samples.\n",
      "  'precision', 'predicted', average, warn_for)\n",
      "/usr/local/lib/python3.6/dist-packages/sklearn/metrics/classification.py:1143: UndefinedMetricWarning: F-score is ill-defined and being set to 0.0 in labels with no predicted samples.\n",
      "  'precision', 'predicted', average, warn_for)\n"
     ]
    },
    {
     "name": "stdout",
     "output_type": "stream",
     "text": [
      "accuracy_score 0.8401519468186135 precision_score 0.8422604631962943 recall_score 0.8401519468186135 f1_score 0.8385818478818641\n",
      "\n",
      "Estimator: RandomForestClassifier w TDIDF\n"
     ]
    },
    {
     "name": "stderr",
     "output_type": "stream",
     "text": [
      "/usr/local/lib/python3.6/dist-packages/sklearn/metrics/classification.py:1143: UndefinedMetricWarning: Precision is ill-defined and being set to 0.0 in labels with no predicted samples.\n",
      "  'precision', 'predicted', average, warn_for)\n",
      "/usr/local/lib/python3.6/dist-packages/sklearn/metrics/classification.py:1143: UndefinedMetricWarning: F-score is ill-defined and being set to 0.0 in labels with no predicted samples.\n",
      "  'precision', 'predicted', average, warn_for)\n"
     ]
    },
    {
     "name": "stdout",
     "output_type": "stream",
     "text": [
      "accuracy_score 0.8355935422602089 precision_score 0.838091308536316 recall_score 0.8355935422602089 f1_score 0.8340687942225078\n",
      "\n",
      "Estimator: MultinomialNB\n"
     ]
    },
    {
     "name": "stderr",
     "output_type": "stream",
     "text": [
      "/usr/local/lib/python3.6/dist-packages/sklearn/metrics/classification.py:1143: UndefinedMetricWarning: Precision is ill-defined and being set to 0.0 in labels with no predicted samples.\n",
      "  'precision', 'predicted', average, warn_for)\n",
      "/usr/local/lib/python3.6/dist-packages/sklearn/metrics/classification.py:1143: UndefinedMetricWarning: F-score is ill-defined and being set to 0.0 in labels with no predicted samples.\n",
      "  'precision', 'predicted', average, warn_for)\n"
     ]
    },
    {
     "name": "stdout",
     "output_type": "stream",
     "text": [
      "accuracy_score 0.7058309591642925 precision_score 0.7335957789811607 recall_score 0.7058309591642925 f1_score 0.6820679604305293\n",
      "\n",
      "Estimator: KNeighborsClassifier\n",
      "accuracy_score 0.7280721747388414 precision_score 0.7314763713057041 recall_score 0.7280721747388414 f1_score 0.7252393583276854\n",
      "\n",
      "Estimator: LogisticRegression\n"
     ]
    },
    {
     "name": "stderr",
     "output_type": "stream",
     "text": [
      "/usr/local/lib/python3.6/dist-packages/sklearn/metrics/classification.py:1143: UndefinedMetricWarning: Precision is ill-defined and being set to 0.0 in labels with no predicted samples.\n",
      "  'precision', 'predicted', average, warn_for)\n",
      "/usr/local/lib/python3.6/dist-packages/sklearn/metrics/classification.py:1143: UndefinedMetricWarning: F-score is ill-defined and being set to 0.0 in labels with no predicted samples.\n",
      "  'precision', 'predicted', average, warn_for)\n"
     ]
    },
    {
     "name": "stdout",
     "output_type": "stream",
     "text": [
      "accuracy_score 0.8587844254510921 precision_score 0.8757642789401157 recall_score 0.8587844254510921 f1_score 0.8626580151873143\n",
      "Sleeves\n",
      "\n",
      "Estimator: DecisionTreeClassifier\n",
      "accuracy_score 0.980157763579472 precision_score 0.9801774459279128 recall_score 0.980157763579472 f1_score 0.9801656621186539\n",
      "\n",
      "Estimator: RandomForestClassifier\n",
      "accuracy_score 0.9624889921492945 precision_score 0.9616077403954593 recall_score 0.9624889921492945 f1_score 0.9603877997111036\n",
      "\n",
      "Estimator: RandomForestClassifier w TDIDF\n",
      "accuracy_score 0.959641003541249 precision_score 0.9586152688661835 recall_score 0.959641003541249 f1_score 0.9568616869863337\n",
      "\n",
      "Estimator: MultinomialNB\n",
      "accuracy_score 0.8276217421446104 precision_score 0.8518798293184598 recall_score 0.8276217421446104 f1_score 0.8073288450028193\n",
      "\n",
      "Estimator: KNeighborsClassifier\n",
      "accuracy_score 0.8211762942421914 precision_score 0.8154612818760297 recall_score 0.8211762942421914 f1_score 0.8165966809407751\n",
      "\n",
      "Estimator: LogisticRegression\n",
      "accuracy_score 0.9791647149200877 precision_score 0.9789810934723124 recall_score 0.9791647149200877 f1_score 0.9790145289703484\n"
     ]
    }
   ],
   "source": [
    "import pandas as pd\n",
    "print('Performing model testing...')\n",
    "\n",
    "#Fashion\n",
    "data=pd.read_csv(files[4])\n",
    "\n",
    "\n",
    "performance1={}\n",
    "output=pd.DataFrame()\n",
    "for i in range(3,len(data.columns)):\n",
    "    print(data.columns[i])\n",
    "    df=pd.DataFrame(data['title'])\n",
    "    df[data.columns[i]]=data[data.columns[i]]\n",
    "    df=df.dropna()\n",
    "    result = test_pipelines(df.title,df[data.columns[i]],pipelines,'fashion_'+data.columns[i])\n",
    "    performance1[data.columns[i]]=result\n"
   ]
  },
  {
   "cell_type": "code",
   "execution_count": 0,
   "metadata": {
    "colab": {
     "base_uri": "https://localhost:8080/",
     "height": 235
    },
    "colab_type": "code",
    "executionInfo": {
     "elapsed": 1737375,
     "status": "ok",
     "timestamp": 1551943176419,
     "user": {
      "displayName": "shuttletan",
      "photoUrl": "",
      "userId": "14903186212279910770"
     },
     "user_tz": -480
    },
    "id": "R6PC-we52Q6c",
    "outputId": "98418591-4a3a-4cb7-bc21-08057c0de9f1"
   },
   "outputs": [
    {
     "data": {
      "text/html": [
       "<div>\n",
       "<style scoped>\n",
       "    .dataframe tbody tr th:only-of-type {\n",
       "        vertical-align: middle;\n",
       "    }\n",
       "\n",
       "    .dataframe tbody tr th {\n",
       "        vertical-align: top;\n",
       "    }\n",
       "\n",
       "    .dataframe thead th {\n",
       "        text-align: right;\n",
       "    }\n",
       "</style>\n",
       "<table border=\"1\" class=\"dataframe\">\n",
       "  <thead>\n",
       "    <tr style=\"text-align: right;\">\n",
       "      <th></th>\n",
       "      <th>Clothing Material</th>\n",
       "      <th>Collar Type</th>\n",
       "      <th>Fashion Trend</th>\n",
       "      <th>Pattern</th>\n",
       "      <th>Sleeves</th>\n",
       "    </tr>\n",
       "  </thead>\n",
       "  <tbody>\n",
       "    <tr>\n",
       "      <th>DecisionTreeClassifier</th>\n",
       "      <td>0.859069</td>\n",
       "      <td>0.817641</td>\n",
       "      <td>0.911028</td>\n",
       "      <td>0.927921</td>\n",
       "      <td>0.980158</td>\n",
       "    </tr>\n",
       "    <tr>\n",
       "      <th>KNeighborsClassifier</th>\n",
       "      <td>0.728072</td>\n",
       "      <td>0.726417</td>\n",
       "      <td>0.809523</td>\n",
       "      <td>0.811515</td>\n",
       "      <td>0.821176</td>\n",
       "    </tr>\n",
       "    <tr>\n",
       "      <th>LogisticRegression</th>\n",
       "      <td>0.858784</td>\n",
       "      <td>0.821571</td>\n",
       "      <td>0.916195</td>\n",
       "      <td>0.935093</td>\n",
       "      <td>0.979165</td>\n",
       "    </tr>\n",
       "    <tr>\n",
       "      <th>MultinomialNB</th>\n",
       "      <td>0.705831</td>\n",
       "      <td>0.717617</td>\n",
       "      <td>0.799257</td>\n",
       "      <td>0.773931</td>\n",
       "      <td>0.827622</td>\n",
       "    </tr>\n",
       "    <tr>\n",
       "      <th>RandomForestClassifier</th>\n",
       "      <td>0.840152</td>\n",
       "      <td>0.821952</td>\n",
       "      <td>0.902869</td>\n",
       "      <td>0.906367</td>\n",
       "      <td>0.962489</td>\n",
       "    </tr>\n",
       "    <tr>\n",
       "      <th>RandomForestClassifier w TDIDF</th>\n",
       "      <td>0.835594</td>\n",
       "      <td>0.810483</td>\n",
       "      <td>0.895187</td>\n",
       "      <td>0.902182</td>\n",
       "      <td>0.959641</td>\n",
       "    </tr>\n",
       "  </tbody>\n",
       "</table>\n",
       "</div>"
      ],
      "text/plain": [
       "                                Clothing Material  Collar Type  Fashion Trend  \\\n",
       "DecisionTreeClassifier                   0.859069     0.817641       0.911028   \n",
       "KNeighborsClassifier                     0.728072     0.726417       0.809523   \n",
       "LogisticRegression                       0.858784     0.821571       0.916195   \n",
       "MultinomialNB                            0.705831     0.717617       0.799257   \n",
       "RandomForestClassifier                   0.840152     0.821952       0.902869   \n",
       "RandomForestClassifier w TDIDF           0.835594     0.810483       0.895187   \n",
       "\n",
       "                                 Pattern   Sleeves  \n",
       "DecisionTreeClassifier          0.927921  0.980158  \n",
       "KNeighborsClassifier            0.811515  0.821176  \n",
       "LogisticRegression              0.935093  0.979165  \n",
       "MultinomialNB                   0.773931  0.827622  \n",
       "RandomForestClassifier          0.906367  0.962489  \n",
       "RandomForestClassifier w TDIDF  0.902182  0.959641  "
      ]
     },
     "execution_count": 24,
     "metadata": {
      "tags": []
     },
     "output_type": "execute_result"
    }
   ],
   "source": [
    "temp=pd.DataFrame.from_dict(performance1)\n",
    "temp.to_csv('performance_fashion.csv',index=False)\n",
    "temp\n"
   ]
  },
  {
   "cell_type": "code",
   "execution_count": 0,
   "metadata": {
    "colab": {
     "base_uri": "https://localhost:8080/",
     "height": 6103
    },
    "colab_type": "code",
    "executionInfo": {
     "elapsed": 2484321,
     "status": "ok",
     "timestamp": 1551943931666,
     "user": {
      "displayName": "shuttletan",
      "photoUrl": "",
      "userId": "14903186212279910770"
     },
     "user_tz": -480
    },
    "id": "fhM0xQVb3DG3",
    "outputId": "99a3e38e-a148-484b-b09b-76f23be9bb57"
   },
   "outputs": [
    {
     "name": "stdout",
     "output_type": "stream",
     "text": [
      "Performing model testing...\n",
      "Operating System\n",
      "\n",
      "Estimator: DecisionTreeClassifier\n",
      "accuracy_score 0.9645170789163722 precision_score 0.9643519054740965 recall_score 0.9645170789163722 f1_score 0.9643900725094192\n",
      "\n",
      "Estimator: RandomForestClassifier\n"
     ]
    },
    {
     "name": "stderr",
     "output_type": "stream",
     "text": [
      "/usr/local/lib/python3.6/dist-packages/sklearn/metrics/classification.py:1143: UndefinedMetricWarning: Precision is ill-defined and being set to 0.0 in labels with no predicted samples.\n",
      "  'precision', 'predicted', average, warn_for)\n",
      "/usr/local/lib/python3.6/dist-packages/sklearn/metrics/classification.py:1143: UndefinedMetricWarning: F-score is ill-defined and being set to 0.0 in labels with no predicted samples.\n",
      "  'precision', 'predicted', average, warn_for)\n"
     ]
    },
    {
     "name": "stdout",
     "output_type": "stream",
     "text": [
      "accuracy_score 0.9678297997644287 precision_score 0.9677186961992564 recall_score 0.9678297997644287 f1_score 0.9675038612364727\n",
      "\n",
      "Estimator: RandomForestClassifier w TDIDF\n"
     ]
    },
    {
     "name": "stderr",
     "output_type": "stream",
     "text": [
      "/usr/local/lib/python3.6/dist-packages/sklearn/metrics/classification.py:1143: UndefinedMetricWarning: Precision is ill-defined and being set to 0.0 in labels with no predicted samples.\n",
      "  'precision', 'predicted', average, warn_for)\n",
      "/usr/local/lib/python3.6/dist-packages/sklearn/metrics/classification.py:1143: UndefinedMetricWarning: F-score is ill-defined and being set to 0.0 in labels with no predicted samples.\n",
      "  'precision', 'predicted', average, warn_for)\n"
     ]
    },
    {
     "name": "stdout",
     "output_type": "stream",
     "text": [
      "accuracy_score 0.9672408716136631 precision_score 0.9669313519874084 recall_score 0.9672408716136631 f1_score 0.9667515070365872\n",
      "\n",
      "Estimator: MultinomialNB\n"
     ]
    },
    {
     "name": "stderr",
     "output_type": "stream",
     "text": [
      "/usr/local/lib/python3.6/dist-packages/sklearn/metrics/classification.py:1143: UndefinedMetricWarning: Precision is ill-defined and being set to 0.0 in labels with no predicted samples.\n",
      "  'precision', 'predicted', average, warn_for)\n",
      "/usr/local/lib/python3.6/dist-packages/sklearn/metrics/classification.py:1143: UndefinedMetricWarning: F-score is ill-defined and being set to 0.0 in labels with no predicted samples.\n",
      "  'precision', 'predicted', average, warn_for)\n"
     ]
    },
    {
     "name": "stdout",
     "output_type": "stream",
     "text": [
      "accuracy_score 0.9295494699646644 precision_score 0.9244338063432269 recall_score 0.9295494699646644 f1_score 0.9204896206760546\n",
      "\n",
      "Estimator: KNeighborsClassifier\n"
     ]
    },
    {
     "name": "stderr",
     "output_type": "stream",
     "text": [
      "/usr/local/lib/python3.6/dist-packages/sklearn/metrics/classification.py:1143: UndefinedMetricWarning: Precision is ill-defined and being set to 0.0 in labels with no predicted samples.\n",
      "  'precision', 'predicted', average, warn_for)\n",
      "/usr/local/lib/python3.6/dist-packages/sklearn/metrics/classification.py:1143: UndefinedMetricWarning: F-score is ill-defined and being set to 0.0 in labels with no predicted samples.\n",
      "  'precision', 'predicted', average, warn_for)\n"
     ]
    },
    {
     "name": "stdout",
     "output_type": "stream",
     "text": [
      "accuracy_score 0.958186101295642 precision_score 0.9574631562713628 recall_score 0.958186101295642 f1_score 0.957416263595703\n",
      "\n",
      "Estimator: LogisticRegression\n",
      "accuracy_score 0.9641489988221437 precision_score 0.9628337469287646 recall_score 0.9641489988221437 f1_score 0.9622305884665079\n",
      "Features\n",
      "\n",
      "Estimator: DecisionTreeClassifier\n",
      "accuracy_score 0.7140799728905456 precision_score 0.7137554123441797 recall_score 0.7140799728905456 f1_score 0.7133157286852349\n",
      "\n",
      "Estimator: RandomForestClassifier\n",
      "accuracy_score 0.741867163673331 precision_score 0.7460866735845868 recall_score 0.741867163673331 f1_score 0.7404363088086084\n",
      "\n",
      "Estimator: RandomForestClassifier w TDIDF\n",
      "accuracy_score 0.7339037614368011 precision_score 0.7417850138223269 recall_score 0.7339037614368011 f1_score 0.7325457060295204\n",
      "\n",
      "Estimator: MultinomialNB\n"
     ]
    },
    {
     "name": "stderr",
     "output_type": "stream",
     "text": [
      "/usr/local/lib/python3.6/dist-packages/sklearn/metrics/classification.py:1143: UndefinedMetricWarning: Precision is ill-defined and being set to 0.0 in labels with no predicted samples.\n",
      "  'precision', 'predicted', average, warn_for)\n",
      "/usr/local/lib/python3.6/dist-packages/sklearn/metrics/classification.py:1143: UndefinedMetricWarning: F-score is ill-defined and being set to 0.0 in labels with no predicted samples.\n",
      "  'precision', 'predicted', average, warn_for)\n"
     ]
    },
    {
     "name": "stdout",
     "output_type": "stream",
     "text": [
      "accuracy_score 0.7144188410708234 precision_score 0.7338467808946797 recall_score 0.7144188410708234 f1_score 0.7036326360140603\n",
      "\n",
      "Estimator: KNeighborsClassifier\n",
      "accuracy_score 0.7188241274144358 precision_score 0.7227753395629836 recall_score 0.7188241274144358 f1_score 0.7166429092634424\n",
      "\n",
      "Estimator: LogisticRegression\n",
      "accuracy_score 0.740765842087428 precision_score 0.7501691943655495 recall_score 0.740765842087428 f1_score 0.737108315532301\n",
      "Network Connections\n",
      "\n",
      "Estimator: DecisionTreeClassifier\n",
      "accuracy_score 0.8871656232214001 precision_score 0.8835364134777758 recall_score 0.8871656232214001 f1_score 0.8846117699010444\n",
      "\n",
      "Estimator: RandomForestClassifier\n",
      "accuracy_score 0.8986909504837791 precision_score 0.8956620012865028 recall_score 0.8986909504837791 f1_score 0.8921535894077711\n",
      "\n",
      "Estimator: RandomForestClassifier w TDIDF\n",
      "accuracy_score 0.8965566306203756 precision_score 0.8940514823211244 recall_score 0.8965566306203756 f1_score 0.8887215769188056\n",
      "\n",
      "Estimator: MultinomialNB\n"
     ]
    },
    {
     "name": "stderr",
     "output_type": "stream",
     "text": [
      "/usr/local/lib/python3.6/dist-packages/sklearn/metrics/classification.py:1143: UndefinedMetricWarning: Precision is ill-defined and being set to 0.0 in labels with no predicted samples.\n",
      "  'precision', 'predicted', average, warn_for)\n",
      "/usr/local/lib/python3.6/dist-packages/sklearn/metrics/classification.py:1143: UndefinedMetricWarning: F-score is ill-defined and being set to 0.0 in labels with no predicted samples.\n",
      "  'precision', 'predicted', average, warn_for)\n"
     ]
    },
    {
     "name": "stdout",
     "output_type": "stream",
     "text": [
      "accuracy_score 0.8767785998861696 precision_score 0.8791472667345837 recall_score 0.8767785998861696 f1_score 0.8615399656025197\n",
      "\n",
      "Estimator: KNeighborsClassifier\n",
      "accuracy_score 0.8841775754126352 precision_score 0.8793085892602199 recall_score 0.8841775754126352 f1_score 0.8755839530041842\n",
      "\n",
      "Estimator: LogisticRegression\n"
     ]
    },
    {
     "name": "stderr",
     "output_type": "stream",
     "text": [
      "/usr/local/lib/python3.6/dist-packages/sklearn/metrics/classification.py:1143: UndefinedMetricWarning: Precision is ill-defined and being set to 0.0 in labels with no predicted samples.\n",
      "  'precision', 'predicted', average, warn_for)\n",
      "/usr/local/lib/python3.6/dist-packages/sklearn/metrics/classification.py:1143: UndefinedMetricWarning: F-score is ill-defined and being set to 0.0 in labels with no predicted samples.\n",
      "  'precision', 'predicted', average, warn_for)\n"
     ]
    },
    {
     "name": "stdout",
     "output_type": "stream",
     "text": [
      "accuracy_score 0.900398406374502 precision_score 0.8988100219692292 recall_score 0.900398406374502 f1_score 0.8923041366950952\n",
      "Memory RAM\n",
      "\n",
      "Estimator: DecisionTreeClassifier\n",
      "accuracy_score 0.8719611968209444 precision_score 0.8712369267564924 recall_score 0.8719611968209444 f1_score 0.8713794773064808\n",
      "\n",
      "Estimator: RandomForestClassifier\n",
      "accuracy_score 0.8689223936418887 precision_score 0.8679563725533044 recall_score 0.8689223936418887 f1_score 0.867318306178453\n",
      "\n",
      "Estimator: RandomForestClassifier w TDIDF\n",
      "accuracy_score 0.8605072463768116 precision_score 0.859689278320029 recall_score 0.8605072463768116 f1_score 0.8590161786896854\n",
      "\n",
      "Estimator: MultinomialNB\n"
     ]
    },
    {
     "name": "stderr",
     "output_type": "stream",
     "text": [
      "/usr/local/lib/python3.6/dist-packages/sklearn/metrics/classification.py:1143: UndefinedMetricWarning: Precision is ill-defined and being set to 0.0 in labels with no predicted samples.\n",
      "  'precision', 'predicted', average, warn_for)\n",
      "/usr/local/lib/python3.6/dist-packages/sklearn/metrics/classification.py:1143: UndefinedMetricWarning: F-score is ill-defined and being set to 0.0 in labels with no predicted samples.\n",
      "  'precision', 'predicted', average, warn_for)\n"
     ]
    },
    {
     "name": "stdout",
     "output_type": "stream",
     "text": [
      "accuracy_score 0.7928938756428238 precision_score 0.8054765402458989 recall_score 0.7928938756428238 f1_score 0.7817163675731492\n",
      "\n",
      "Estimator: KNeighborsClassifier\n",
      "accuracy_score 0.7889200561009818 precision_score 0.787456891546273 recall_score 0.7889200561009818 f1_score 0.7871450002960249\n",
      "\n",
      "Estimator: LogisticRegression\n",
      "accuracy_score 0.8693899018232819 precision_score 0.8704910928525722 recall_score 0.8693899018232819 f1_score 0.8668849644201458\n",
      "Brand\n",
      "\n",
      "Estimator: DecisionTreeClassifier\n"
     ]
    },
    {
     "name": "stderr",
     "output_type": "stream",
     "text": [
      "/usr/local/lib/python3.6/dist-packages/sklearn/metrics/classification.py:1143: UndefinedMetricWarning: Precision is ill-defined and being set to 0.0 in labels with no predicted samples.\n",
      "  'precision', 'predicted', average, warn_for)\n",
      "/usr/local/lib/python3.6/dist-packages/sklearn/metrics/classification.py:1143: UndefinedMetricWarning: F-score is ill-defined and being set to 0.0 in labels with no predicted samples.\n",
      "  'precision', 'predicted', average, warn_for)\n"
     ]
    },
    {
     "name": "stdout",
     "output_type": "stream",
     "text": [
      "accuracy_score 0.9849286205710355 precision_score 0.9854086334645245 recall_score 0.9849286205710355 f1_score 0.9850982574273295\n",
      "\n",
      "Estimator: RandomForestClassifier\n"
     ]
    },
    {
     "name": "stderr",
     "output_type": "stream",
     "text": [
      "/usr/local/lib/python3.6/dist-packages/sklearn/metrics/classification.py:1143: UndefinedMetricWarning: Precision is ill-defined and being set to 0.0 in labels with no predicted samples.\n",
      "  'precision', 'predicted', average, warn_for)\n",
      "/usr/local/lib/python3.6/dist-packages/sklearn/metrics/classification.py:1143: UndefinedMetricWarning: F-score is ill-defined and being set to 0.0 in labels with no predicted samples.\n",
      "  'precision', 'predicted', average, warn_for)\n"
     ]
    },
    {
     "name": "stdout",
     "output_type": "stream",
     "text": [
      "accuracy_score 0.9832946336429309 precision_score 0.9827876301797089 recall_score 0.9832946336429309 f1_score 0.9827465695850867\n",
      "\n",
      "Estimator: RandomForestClassifier w TDIDF\n"
     ]
    },
    {
     "name": "stderr",
     "output_type": "stream",
     "text": [
      "/usr/local/lib/python3.6/dist-packages/sklearn/metrics/classification.py:1143: UndefinedMetricWarning: Precision is ill-defined and being set to 0.0 in labels with no predicted samples.\n",
      "  'precision', 'predicted', average, warn_for)\n",
      "/usr/local/lib/python3.6/dist-packages/sklearn/metrics/classification.py:1143: UndefinedMetricWarning: F-score is ill-defined and being set to 0.0 in labels with no predicted samples.\n",
      "  'precision', 'predicted', average, warn_for)\n"
     ]
    },
    {
     "name": "stdout",
     "output_type": "stream",
     "text": [
      "accuracy_score 0.9839611283109735 precision_score 0.983518794590729 recall_score 0.9839611283109735 f1_score 0.9835486322589897\n",
      "\n",
      "Estimator: MultinomialNB\n"
     ]
    },
    {
     "name": "stderr",
     "output_type": "stream",
     "text": [
      "/usr/local/lib/python3.6/dist-packages/sklearn/metrics/classification.py:1143: UndefinedMetricWarning: Precision is ill-defined and being set to 0.0 in labels with no predicted samples.\n",
      "  'precision', 'predicted', average, warn_for)\n",
      "/usr/local/lib/python3.6/dist-packages/sklearn/metrics/classification.py:1143: UndefinedMetricWarning: F-score is ill-defined and being set to 0.0 in labels with no predicted samples.\n",
      "  'precision', 'predicted', average, warn_for)\n"
     ]
    },
    {
     "name": "stdout",
     "output_type": "stream",
     "text": [
      "accuracy_score 0.9108187134502924 precision_score 0.911900983426561 recall_score 0.9108187134502924 f1_score 0.8932429830609042\n",
      "\n",
      "Estimator: KNeighborsClassifier\n"
     ]
    },
    {
     "name": "stderr",
     "output_type": "stream",
     "text": [
      "/usr/local/lib/python3.6/dist-packages/sklearn/metrics/classification.py:1143: UndefinedMetricWarning: Precision is ill-defined and being set to 0.0 in labels with no predicted samples.\n",
      "  'precision', 'predicted', average, warn_for)\n",
      "/usr/local/lib/python3.6/dist-packages/sklearn/metrics/classification.py:1143: UndefinedMetricWarning: F-score is ill-defined and being set to 0.0 in labels with no predicted samples.\n",
      "  'precision', 'predicted', average, warn_for)\n"
     ]
    },
    {
     "name": "stdout",
     "output_type": "stream",
     "text": [
      "accuracy_score 0.9109907120743034 precision_score 0.9113895679462041 recall_score 0.9109907120743034 f1_score 0.910305886885849\n",
      "\n",
      "Estimator: LogisticRegression\n",
      "accuracy_score 0.9860896112831098 precision_score 0.9859283844419234 recall_score 0.9860896112831098 f1_score 0.9857599677304276\n",
      "Warranty Period\n",
      "\n",
      "Estimator: DecisionTreeClassifier\n",
      "accuracy_score 0.8161142698654833 precision_score 0.803738552724797 recall_score 0.8161142698654833 f1_score 0.808935247828957\n",
      "\n",
      "Estimator: RandomForestClassifier\n",
      "accuracy_score 0.8517542643184024 precision_score 0.8301586757746966 recall_score 0.8517542643184024 f1_score 0.8310778516935867\n",
      "\n",
      "Estimator: RandomForestClassifier w TDIDF\n",
      "accuracy_score 0.8518236028290113 precision_score 0.828021996111184 recall_score 0.8518236028290113 f1_score 0.8292781022226025\n",
      "\n",
      "Estimator: MultinomialNB\n"
     ]
    },
    {
     "name": "stderr",
     "output_type": "stream",
     "text": [
      "/usr/local/lib/python3.6/dist-packages/sklearn/metrics/classification.py:1143: UndefinedMetricWarning: Precision is ill-defined and being set to 0.0 in labels with no predicted samples.\n",
      "  'precision', 'predicted', average, warn_for)\n",
      "/usr/local/lib/python3.6/dist-packages/sklearn/metrics/classification.py:1143: UndefinedMetricWarning: F-score is ill-defined and being set to 0.0 in labels with no predicted samples.\n",
      "  'precision', 'predicted', average, warn_for)\n"
     ]
    },
    {
     "name": "stdout",
     "output_type": "stream",
     "text": [
      "accuracy_score 0.8164609624185273 precision_score 0.7870657316923872 recall_score 0.8164609624185273 f1_score 0.757914709479258\n",
      "\n",
      "Estimator: KNeighborsClassifier\n",
      "accuracy_score 0.8383719317709055 precision_score 0.8118328747076954 recall_score 0.8383719317709055 f1_score 0.816984881856333\n",
      "\n",
      "Estimator: LogisticRegression\n"
     ]
    },
    {
     "name": "stderr",
     "output_type": "stream",
     "text": [
      "/usr/local/lib/python3.6/dist-packages/sklearn/metrics/classification.py:1143: UndefinedMetricWarning: Precision is ill-defined and being set to 0.0 in labels with no predicted samples.\n",
      "  'precision', 'predicted', average, warn_for)\n",
      "/usr/local/lib/python3.6/dist-packages/sklearn/metrics/classification.py:1143: UndefinedMetricWarning: F-score is ill-defined and being set to 0.0 in labels with no predicted samples.\n",
      "  'precision', 'predicted', average, warn_for)\n"
     ]
    },
    {
     "name": "stdout",
     "output_type": "stream",
     "text": [
      "accuracy_score 0.8425322424074331 precision_score 0.8123998994399579 recall_score 0.8425322424074331 f1_score 0.8067520781670225\n",
      "Storage Capacity\n",
      "\n",
      "Estimator: DecisionTreeClassifier\n",
      "accuracy_score 0.9353391396146741 precision_score 0.9353757261761237 recall_score 0.9353391396146741 f1_score 0.9351676880852123\n",
      "\n",
      "Estimator: RandomForestClassifier\n",
      "accuracy_score 0.9367643177619425 precision_score 0.937411558234947 recall_score 0.9367643177619425 f1_score 0.9363346362199021\n",
      "\n",
      "Estimator: RandomForestClassifier w TDIDF\n",
      "accuracy_score 0.9360781208762207 precision_score 0.9365652685519795 recall_score 0.9360781208762207 f1_score 0.9357600943715384\n",
      "\n",
      "Estimator: MultinomialNB\n"
     ]
    },
    {
     "name": "stderr",
     "output_type": "stream",
     "text": [
      "/usr/local/lib/python3.6/dist-packages/sklearn/metrics/classification.py:1143: UndefinedMetricWarning: Precision is ill-defined and being set to 0.0 in labels with no predicted samples.\n",
      "  'precision', 'predicted', average, warn_for)\n",
      "/usr/local/lib/python3.6/dist-packages/sklearn/metrics/classification.py:1143: UndefinedMetricWarning: F-score is ill-defined and being set to 0.0 in labels with no predicted samples.\n",
      "  'precision', 'predicted', average, warn_for)\n"
     ]
    },
    {
     "name": "stdout",
     "output_type": "stream",
     "text": [
      "accuracy_score 0.8726313011348641 precision_score 0.8799772266785079 recall_score 0.8726313011348641 f1_score 0.865193658681688\n",
      "\n",
      "Estimator: KNeighborsClassifier\n",
      "accuracy_score 0.8218527315914489 precision_score 0.8233830615066203 recall_score 0.8218527315914489 f1_score 0.8207310988108066\n",
      "\n",
      "Estimator: LogisticRegression\n"
     ]
    },
    {
     "name": "stderr",
     "output_type": "stream",
     "text": [
      "/usr/local/lib/python3.6/dist-packages/sklearn/metrics/classification.py:1143: UndefinedMetricWarning: Precision is ill-defined and being set to 0.0 in labels with no predicted samples.\n",
      "  'precision', 'predicted', average, warn_for)\n",
      "/usr/local/lib/python3.6/dist-packages/sklearn/metrics/classification.py:1143: UndefinedMetricWarning: F-score is ill-defined and being set to 0.0 in labels with no predicted samples.\n",
      "  'precision', 'predicted', average, warn_for)\n"
     ]
    },
    {
     "name": "stdout",
     "output_type": "stream",
     "text": [
      "accuracy_score 0.939667458432304 precision_score 0.9411007045489993 recall_score 0.939667458432304 f1_score 0.938861996580553\n",
      "Color Family\n",
      "\n",
      "Estimator: DecisionTreeClassifier\n"
     ]
    },
    {
     "name": "stderr",
     "output_type": "stream",
     "text": [
      "/usr/local/lib/python3.6/dist-packages/sklearn/metrics/classification.py:1143: UndefinedMetricWarning: Precision is ill-defined and being set to 0.0 in labels with no predicted samples.\n",
      "  'precision', 'predicted', average, warn_for)\n",
      "/usr/local/lib/python3.6/dist-packages/sklearn/metrics/classification.py:1143: UndefinedMetricWarning: F-score is ill-defined and being set to 0.0 in labels with no predicted samples.\n",
      "  'precision', 'predicted', average, warn_for)\n"
     ]
    },
    {
     "name": "stdout",
     "output_type": "stream",
     "text": [
      "accuracy_score 0.8153241650294696 precision_score 0.814880799694603 recall_score 0.8153241650294696 f1_score 0.8139542523699446\n",
      "\n",
      "Estimator: RandomForestClassifier\n"
     ]
    },
    {
     "name": "stderr",
     "output_type": "stream",
     "text": [
      "/usr/local/lib/python3.6/dist-packages/sklearn/metrics/classification.py:1143: UndefinedMetricWarning: Precision is ill-defined and being set to 0.0 in labels with no predicted samples.\n",
      "  'precision', 'predicted', average, warn_for)\n",
      "/usr/local/lib/python3.6/dist-packages/sklearn/metrics/classification.py:1143: UndefinedMetricWarning: F-score is ill-defined and being set to 0.0 in labels with no predicted samples.\n",
      "  'precision', 'predicted', average, warn_for)\n"
     ]
    },
    {
     "name": "stdout",
     "output_type": "stream",
     "text": [
      "accuracy_score 0.8154813359528488 precision_score 0.8212701129455656 recall_score 0.8154813359528488 f1_score 0.8122649755442227\n",
      "\n",
      "Estimator: RandomForestClassifier w TDIDF\n"
     ]
    },
    {
     "name": "stderr",
     "output_type": "stream",
     "text": [
      "/usr/local/lib/python3.6/dist-packages/sklearn/metrics/classification.py:1143: UndefinedMetricWarning: Precision is ill-defined and being set to 0.0 in labels with no predicted samples.\n",
      "  'precision', 'predicted', average, warn_for)\n",
      "/usr/local/lib/python3.6/dist-packages/sklearn/metrics/classification.py:1143: UndefinedMetricWarning: F-score is ill-defined and being set to 0.0 in labels with no predicted samples.\n",
      "  'precision', 'predicted', average, warn_for)\n"
     ]
    },
    {
     "name": "stdout",
     "output_type": "stream",
     "text": [
      "accuracy_score 0.8148919449901768 precision_score 0.8225889084693989 recall_score 0.8148919449901768 f1_score 0.8116194411638595\n",
      "\n",
      "Estimator: MultinomialNB\n"
     ]
    },
    {
     "name": "stderr",
     "output_type": "stream",
     "text": [
      "/usr/local/lib/python3.6/dist-packages/sklearn/metrics/classification.py:1143: UndefinedMetricWarning: Precision is ill-defined and being set to 0.0 in labels with no predicted samples.\n",
      "  'precision', 'predicted', average, warn_for)\n",
      "/usr/local/lib/python3.6/dist-packages/sklearn/metrics/classification.py:1143: UndefinedMetricWarning: F-score is ill-defined and being set to 0.0 in labels with no predicted samples.\n",
      "  'precision', 'predicted', average, warn_for)\n"
     ]
    },
    {
     "name": "stdout",
     "output_type": "stream",
     "text": [
      "accuracy_score 0.6989783889980353 precision_score 0.7551434679978853 recall_score 0.6989783889980353 f1_score 0.6640942335868129\n",
      "\n",
      "Estimator: KNeighborsClassifier\n"
     ]
    },
    {
     "name": "stderr",
     "output_type": "stream",
     "text": [
      "/usr/local/lib/python3.6/dist-packages/sklearn/metrics/classification.py:1143: UndefinedMetricWarning: Precision is ill-defined and being set to 0.0 in labels with no predicted samples.\n",
      "  'precision', 'predicted', average, warn_for)\n",
      "/usr/local/lib/python3.6/dist-packages/sklearn/metrics/classification.py:1143: UndefinedMetricWarning: F-score is ill-defined and being set to 0.0 in labels with no predicted samples.\n",
      "  'precision', 'predicted', average, warn_for)\n"
     ]
    },
    {
     "name": "stdout",
     "output_type": "stream",
     "text": [
      "accuracy_score 0.6742632612966601 precision_score 0.6810178116175537 recall_score 0.6742632612966601 f1_score 0.6655485486651312\n",
      "\n",
      "Estimator: LogisticRegression\n",
      "accuracy_score 0.8231827111984283 precision_score 0.8388309173104596 recall_score 0.8231827111984283 f1_score 0.8190393393292703\n",
      "Phone Model\n",
      "\n",
      "Estimator: DecisionTreeClassifier\n"
     ]
    },
    {
     "name": "stderr",
     "output_type": "stream",
     "text": [
      "/usr/local/lib/python3.6/dist-packages/sklearn/metrics/classification.py:1143: UndefinedMetricWarning: Precision is ill-defined and being set to 0.0 in labels with no predicted samples.\n",
      "  'precision', 'predicted', average, warn_for)\n",
      "/usr/local/lib/python3.6/dist-packages/sklearn/metrics/classification.py:1145: UndefinedMetricWarning: Recall is ill-defined and being set to 0.0 in labels with no true samples.\n",
      "  'recall', 'true', average, warn_for)\n",
      "/usr/local/lib/python3.6/dist-packages/sklearn/metrics/classification.py:1143: UndefinedMetricWarning: F-score is ill-defined and being set to 0.0 in labels with no predicted samples.\n",
      "  'precision', 'predicted', average, warn_for)\n",
      "/usr/local/lib/python3.6/dist-packages/sklearn/metrics/classification.py:1145: UndefinedMetricWarning: F-score is ill-defined and being set to 0.0 in labels with no true samples.\n",
      "  'recall', 'true', average, warn_for)\n"
     ]
    },
    {
     "name": "stdout",
     "output_type": "stream",
     "text": [
      "accuracy_score 0.9221393917879541 precision_score 0.9242753682336339 recall_score 0.9221393917879541 f1_score 0.9215029863571734\n",
      "\n",
      "Estimator: RandomForestClassifier\n"
     ]
    },
    {
     "name": "stderr",
     "output_type": "stream",
     "text": [
      "/usr/local/lib/python3.6/dist-packages/sklearn/metrics/classification.py:1143: UndefinedMetricWarning: Precision is ill-defined and being set to 0.0 in labels with no predicted samples.\n",
      "  'precision', 'predicted', average, warn_for)\n",
      "/usr/local/lib/python3.6/dist-packages/sklearn/metrics/classification.py:1145: UndefinedMetricWarning: Recall is ill-defined and being set to 0.0 in labels with no true samples.\n",
      "  'recall', 'true', average, warn_for)\n",
      "/usr/local/lib/python3.6/dist-packages/sklearn/metrics/classification.py:1143: UndefinedMetricWarning: F-score is ill-defined and being set to 0.0 in labels with no predicted samples.\n",
      "  'precision', 'predicted', average, warn_for)\n",
      "/usr/local/lib/python3.6/dist-packages/sklearn/metrics/classification.py:1145: UndefinedMetricWarning: F-score is ill-defined and being set to 0.0 in labels with no true samples.\n",
      "  'recall', 'true', average, warn_for)\n"
     ]
    },
    {
     "name": "stdout",
     "output_type": "stream",
     "text": [
      "accuracy_score 0.9088470792411154 precision_score 0.9082517737947425 recall_score 0.9088470792411154 f1_score 0.9061302453197247\n",
      "\n",
      "Estimator: RandomForestClassifier w TDIDF\n"
     ]
    },
    {
     "name": "stderr",
     "output_type": "stream",
     "text": [
      "/usr/local/lib/python3.6/dist-packages/sklearn/metrics/classification.py:1143: UndefinedMetricWarning: Precision is ill-defined and being set to 0.0 in labels with no predicted samples.\n",
      "  'precision', 'predicted', average, warn_for)\n",
      "/usr/local/lib/python3.6/dist-packages/sklearn/metrics/classification.py:1145: UndefinedMetricWarning: Recall is ill-defined and being set to 0.0 in labels with no true samples.\n",
      "  'recall', 'true', average, warn_for)\n",
      "/usr/local/lib/python3.6/dist-packages/sklearn/metrics/classification.py:1143: UndefinedMetricWarning: F-score is ill-defined and being set to 0.0 in labels with no predicted samples.\n",
      "  'precision', 'predicted', average, warn_for)\n",
      "/usr/local/lib/python3.6/dist-packages/sklearn/metrics/classification.py:1145: UndefinedMetricWarning: F-score is ill-defined and being set to 0.0 in labels with no true samples.\n",
      "  'recall', 'true', average, warn_for)\n"
     ]
    },
    {
     "name": "stdout",
     "output_type": "stream",
     "text": [
      "accuracy_score 0.9074665720033133 precision_score 0.9073801914466312 recall_score 0.9074665720033133 f1_score 0.9046506767184763\n",
      "\n",
      "Estimator: MultinomialNB\n"
     ]
    },
    {
     "name": "stderr",
     "output_type": "stream",
     "text": [
      "/usr/local/lib/python3.6/dist-packages/sklearn/metrics/classification.py:1143: UndefinedMetricWarning: Precision is ill-defined and being set to 0.0 in labels with no predicted samples.\n",
      "  'precision', 'predicted', average, warn_for)\n",
      "/usr/local/lib/python3.6/dist-packages/sklearn/metrics/classification.py:1143: UndefinedMetricWarning: F-score is ill-defined and being set to 0.0 in labels with no predicted samples.\n",
      "  'precision', 'predicted', average, warn_for)\n"
     ]
    },
    {
     "name": "stdout",
     "output_type": "stream",
     "text": [
      "accuracy_score 0.597838520096241 precision_score 0.675293058715792 recall_score 0.597838520096241 f1_score 0.5513425544841871\n",
      "\n",
      "Estimator: KNeighborsClassifier\n"
     ]
    },
    {
     "name": "stderr",
     "output_type": "stream",
     "text": [
      "/usr/local/lib/python3.6/dist-packages/sklearn/metrics/classification.py:1143: UndefinedMetricWarning: Precision is ill-defined and being set to 0.0 in labels with no predicted samples.\n",
      "  'precision', 'predicted', average, warn_for)\n",
      "/usr/local/lib/python3.6/dist-packages/sklearn/metrics/classification.py:1145: UndefinedMetricWarning: Recall is ill-defined and being set to 0.0 in labels with no true samples.\n",
      "  'recall', 'true', average, warn_for)\n",
      "/usr/local/lib/python3.6/dist-packages/sklearn/metrics/classification.py:1143: UndefinedMetricWarning: F-score is ill-defined and being set to 0.0 in labels with no predicted samples.\n",
      "  'precision', 'predicted', average, warn_for)\n",
      "/usr/local/lib/python3.6/dist-packages/sklearn/metrics/classification.py:1145: UndefinedMetricWarning: F-score is ill-defined and being set to 0.0 in labels with no true samples.\n",
      "  'recall', 'true', average, warn_for)\n"
     ]
    },
    {
     "name": "stdout",
     "output_type": "stream",
     "text": [
      "accuracy_score 0.7953299412298347 precision_score 0.8013439908378833 recall_score 0.7953299412298347 f1_score 0.7944120680885433\n",
      "\n",
      "Estimator: LogisticRegression\n",
      "accuracy_score 0.9153551847907545 precision_score 0.9104682473605784 recall_score 0.9153551847907545 f1_score 0.9069073091717191\n",
      "Camera\n",
      "\n",
      "Estimator: DecisionTreeClassifier\n"
     ]
    },
    {
     "name": "stderr",
     "output_type": "stream",
     "text": [
      "/usr/local/lib/python3.6/dist-packages/sklearn/metrics/classification.py:1143: UndefinedMetricWarning: Precision is ill-defined and being set to 0.0 in labels with no predicted samples.\n",
      "  'precision', 'predicted', average, warn_for)\n",
      "/usr/local/lib/python3.6/dist-packages/sklearn/metrics/classification.py:1143: UndefinedMetricWarning: F-score is ill-defined and being set to 0.0 in labels with no predicted samples.\n",
      "  'precision', 'predicted', average, warn_for)\n"
     ]
    },
    {
     "name": "stdout",
     "output_type": "stream",
     "text": [
      "accuracy_score 0.6215263657313271 precision_score 0.6222209317647514 recall_score 0.6215263657313271 f1_score 0.6208969506775837\n",
      "\n",
      "Estimator: RandomForestClassifier\n"
     ]
    },
    {
     "name": "stderr",
     "output_type": "stream",
     "text": [
      "/usr/local/lib/python3.6/dist-packages/sklearn/metrics/classification.py:1143: UndefinedMetricWarning: Precision is ill-defined and being set to 0.0 in labels with no predicted samples.\n",
      "  'precision', 'predicted', average, warn_for)\n",
      "/usr/local/lib/python3.6/dist-packages/sklearn/metrics/classification.py:1143: UndefinedMetricWarning: F-score is ill-defined and being set to 0.0 in labels with no predicted samples.\n",
      "  'precision', 'predicted', average, warn_for)\n"
     ]
    },
    {
     "name": "stdout",
     "output_type": "stream",
     "text": [
      "accuracy_score 0.6418598346211197 precision_score 0.64042015297284 recall_score 0.6418598346211197 f1_score 0.6378679910468299\n",
      "\n",
      "Estimator: RandomForestClassifier w TDIDF\n"
     ]
    },
    {
     "name": "stderr",
     "output_type": "stream",
     "text": [
      "/usr/local/lib/python3.6/dist-packages/sklearn/metrics/classification.py:1143: UndefinedMetricWarning: Precision is ill-defined and being set to 0.0 in labels with no predicted samples.\n",
      "  'precision', 'predicted', average, warn_for)\n",
      "/usr/local/lib/python3.6/dist-packages/sklearn/metrics/classification.py:1143: UndefinedMetricWarning: F-score is ill-defined and being set to 0.0 in labels with no predicted samples.\n",
      "  'precision', 'predicted', average, warn_for)\n"
     ]
    },
    {
     "name": "stdout",
     "output_type": "stream",
     "text": [
      "accuracy_score 0.6299308662057747 precision_score 0.6290217146287568 recall_score 0.6299308662057747 f1_score 0.6249473440355111\n",
      "\n",
      "Estimator: MultinomialNB\n"
     ]
    },
    {
     "name": "stderr",
     "output_type": "stream",
     "text": [
      "/usr/local/lib/python3.6/dist-packages/sklearn/metrics/classification.py:1143: UndefinedMetricWarning: Precision is ill-defined and being set to 0.0 in labels with no predicted samples.\n",
      "  'precision', 'predicted', average, warn_for)\n",
      "/usr/local/lib/python3.6/dist-packages/sklearn/metrics/classification.py:1143: UndefinedMetricWarning: F-score is ill-defined and being set to 0.0 in labels with no predicted samples.\n",
      "  'precision', 'predicted', average, warn_for)\n"
     ]
    },
    {
     "name": "stdout",
     "output_type": "stream",
     "text": [
      "accuracy_score 0.5629659753287244 precision_score 0.6299630382755982 recall_score 0.5629659753287244 f1_score 0.5219587851012545\n",
      "\n",
      "Estimator: KNeighborsClassifier\n"
     ]
    },
    {
     "name": "stderr",
     "output_type": "stream",
     "text": [
      "/usr/local/lib/python3.6/dist-packages/sklearn/metrics/classification.py:1143: UndefinedMetricWarning: Precision is ill-defined and being set to 0.0 in labels with no predicted samples.\n",
      "  'precision', 'predicted', average, warn_for)\n",
      "/usr/local/lib/python3.6/dist-packages/sklearn/metrics/classification.py:1145: UndefinedMetricWarning: Recall is ill-defined and being set to 0.0 in labels with no true samples.\n",
      "  'recall', 'true', average, warn_for)\n",
      "/usr/local/lib/python3.6/dist-packages/sklearn/metrics/classification.py:1143: UndefinedMetricWarning: F-score is ill-defined and being set to 0.0 in labels with no predicted samples.\n",
      "  'precision', 'predicted', average, warn_for)\n",
      "/usr/local/lib/python3.6/dist-packages/sklearn/metrics/classification.py:1145: UndefinedMetricWarning: F-score is ill-defined and being set to 0.0 in labels with no true samples.\n",
      "  'recall', 'true', average, warn_for)\n"
     ]
    },
    {
     "name": "stdout",
     "output_type": "stream",
     "text": [
      "accuracy_score 0.6242374949166328 precision_score 0.6241613833356899 recall_score 0.6242374949166328 f1_score 0.6213402262871813\n",
      "\n",
      "Estimator: LogisticRegression\n",
      "accuracy_score 0.6476887623695269 precision_score 0.6497057000821879 recall_score 0.6476887623695269 f1_score 0.6363170658254919\n",
      "Phone Screen Size\n",
      "\n",
      "Estimator: DecisionTreeClassifier\n",
      "accuracy_score 0.6946681618921399 precision_score 0.6942662951433761 recall_score 0.6946681618921399 f1_score 0.6933829986546622\n",
      "\n",
      "Estimator: RandomForestClassifier\n",
      "accuracy_score 0.7163829136507289 precision_score 0.7189202030222395 recall_score 0.7163829136507289 f1_score 0.7140473663246092\n",
      "\n",
      "Estimator: RandomForestClassifier w TDIDF\n",
      "accuracy_score 0.7025180956264655 precision_score 0.7073150800905172 recall_score 0.7025180956264655 f1_score 0.6992878601398235\n",
      "\n",
      "Estimator: MultinomialNB\n",
      "accuracy_score 0.6197369762463044 precision_score 0.65733426244591 recall_score 0.6197369762463044 f1_score 0.5936320773816915\n",
      "\n",
      "Estimator: KNeighborsClassifier\n",
      "accuracy_score 0.6894688551330411 precision_score 0.6937083605511101 recall_score 0.6894688551330411 f1_score 0.6883544504211379\n",
      "\n",
      "Estimator: LogisticRegression\n",
      "accuracy_score 0.7058823529411765 precision_score 0.710660241226599 recall_score 0.7058823529411765 f1_score 0.7007855397131845\n"
     ]
    }
   ],
   "source": [
    "import pandas as pd\n",
    "print('Performing model testing...')\n",
    "\n",
    "#Mobile\n",
    "data=pd.read_csv(files[3])\n",
    "\n",
    "\n",
    "performance2={}\n",
    "output=pd.DataFrame()\n",
    "for i in range(3,len(data.columns)):\n",
    "    print(data.columns[i])\n",
    "    df=pd.DataFrame(data['title'])\n",
    "    df[data.columns[i]]=data[data.columns[i]]\n",
    "    df=df.dropna()\n",
    "    result = test_pipelines(df.title,df[data.columns[i]],pipelines,'mobile_'+data.columns[i])\n",
    "    performance2[data.columns[i]]=result\n"
   ]
  },
  {
   "cell_type": "code",
   "execution_count": 0,
   "metadata": {
    "colab": {
     "base_uri": "https://localhost:8080/",
     "height": 235
    },
    "colab_type": "code",
    "executionInfo": {
     "elapsed": 2483241,
     "status": "ok",
     "timestamp": 1551943931671,
     "user": {
      "displayName": "shuttletan",
      "photoUrl": "",
      "userId": "14903186212279910770"
     },
     "user_tz": -480
    },
    "id": "1-XWmMIt3DLb",
    "outputId": "d8fabdae-e807-4379-eeb8-fcf1e600b6ab"
   },
   "outputs": [
    {
     "data": {
      "text/html": [
       "<div>\n",
       "<style scoped>\n",
       "    .dataframe tbody tr th:only-of-type {\n",
       "        vertical-align: middle;\n",
       "    }\n",
       "\n",
       "    .dataframe tbody tr th {\n",
       "        vertical-align: top;\n",
       "    }\n",
       "\n",
       "    .dataframe thead th {\n",
       "        text-align: right;\n",
       "    }\n",
       "</style>\n",
       "<table border=\"1\" class=\"dataframe\">\n",
       "  <thead>\n",
       "    <tr style=\"text-align: right;\">\n",
       "      <th></th>\n",
       "      <th>Brand</th>\n",
       "      <th>Camera</th>\n",
       "      <th>Color Family</th>\n",
       "      <th>Features</th>\n",
       "      <th>Memory RAM</th>\n",
       "      <th>Network Connections</th>\n",
       "      <th>Operating System</th>\n",
       "      <th>Phone Model</th>\n",
       "      <th>Phone Screen Size</th>\n",
       "      <th>Storage Capacity</th>\n",
       "      <th>Warranty Period</th>\n",
       "    </tr>\n",
       "  </thead>\n",
       "  <tbody>\n",
       "    <tr>\n",
       "      <th>DecisionTreeClassifier</th>\n",
       "      <td>0.984929</td>\n",
       "      <td>0.621526</td>\n",
       "      <td>0.815324</td>\n",
       "      <td>0.714080</td>\n",
       "      <td>0.871961</td>\n",
       "      <td>0.887166</td>\n",
       "      <td>0.964517</td>\n",
       "      <td>0.922139</td>\n",
       "      <td>0.694668</td>\n",
       "      <td>0.935339</td>\n",
       "      <td>0.816114</td>\n",
       "    </tr>\n",
       "    <tr>\n",
       "      <th>KNeighborsClassifier</th>\n",
       "      <td>0.910991</td>\n",
       "      <td>0.624237</td>\n",
       "      <td>0.674263</td>\n",
       "      <td>0.718824</td>\n",
       "      <td>0.788920</td>\n",
       "      <td>0.884178</td>\n",
       "      <td>0.958186</td>\n",
       "      <td>0.795330</td>\n",
       "      <td>0.689469</td>\n",
       "      <td>0.821853</td>\n",
       "      <td>0.838372</td>\n",
       "    </tr>\n",
       "    <tr>\n",
       "      <th>LogisticRegression</th>\n",
       "      <td>0.986090</td>\n",
       "      <td>0.647689</td>\n",
       "      <td>0.823183</td>\n",
       "      <td>0.740766</td>\n",
       "      <td>0.869390</td>\n",
       "      <td>0.900398</td>\n",
       "      <td>0.964149</td>\n",
       "      <td>0.915355</td>\n",
       "      <td>0.705882</td>\n",
       "      <td>0.939667</td>\n",
       "      <td>0.842532</td>\n",
       "    </tr>\n",
       "    <tr>\n",
       "      <th>MultinomialNB</th>\n",
       "      <td>0.910819</td>\n",
       "      <td>0.562966</td>\n",
       "      <td>0.698978</td>\n",
       "      <td>0.714419</td>\n",
       "      <td>0.792894</td>\n",
       "      <td>0.876779</td>\n",
       "      <td>0.929549</td>\n",
       "      <td>0.597839</td>\n",
       "      <td>0.619737</td>\n",
       "      <td>0.872631</td>\n",
       "      <td>0.816461</td>\n",
       "    </tr>\n",
       "    <tr>\n",
       "      <th>RandomForestClassifier</th>\n",
       "      <td>0.983295</td>\n",
       "      <td>0.641860</td>\n",
       "      <td>0.815481</td>\n",
       "      <td>0.741867</td>\n",
       "      <td>0.868922</td>\n",
       "      <td>0.898691</td>\n",
       "      <td>0.967830</td>\n",
       "      <td>0.908847</td>\n",
       "      <td>0.716383</td>\n",
       "      <td>0.936764</td>\n",
       "      <td>0.851754</td>\n",
       "    </tr>\n",
       "    <tr>\n",
       "      <th>RandomForestClassifier w TDIDF</th>\n",
       "      <td>0.983961</td>\n",
       "      <td>0.629931</td>\n",
       "      <td>0.814892</td>\n",
       "      <td>0.733904</td>\n",
       "      <td>0.860507</td>\n",
       "      <td>0.896557</td>\n",
       "      <td>0.967241</td>\n",
       "      <td>0.907467</td>\n",
       "      <td>0.702518</td>\n",
       "      <td>0.936078</td>\n",
       "      <td>0.851824</td>\n",
       "    </tr>\n",
       "  </tbody>\n",
       "</table>\n",
       "</div>"
      ],
      "text/plain": [
       "                                   Brand    Camera  Color Family  Features  \\\n",
       "DecisionTreeClassifier          0.984929  0.621526      0.815324  0.714080   \n",
       "KNeighborsClassifier            0.910991  0.624237      0.674263  0.718824   \n",
       "LogisticRegression              0.986090  0.647689      0.823183  0.740766   \n",
       "MultinomialNB                   0.910819  0.562966      0.698978  0.714419   \n",
       "RandomForestClassifier          0.983295  0.641860      0.815481  0.741867   \n",
       "RandomForestClassifier w TDIDF  0.983961  0.629931      0.814892  0.733904   \n",
       "\n",
       "                                Memory RAM  Network Connections  \\\n",
       "DecisionTreeClassifier            0.871961             0.887166   \n",
       "KNeighborsClassifier              0.788920             0.884178   \n",
       "LogisticRegression                0.869390             0.900398   \n",
       "MultinomialNB                     0.792894             0.876779   \n",
       "RandomForestClassifier            0.868922             0.898691   \n",
       "RandomForestClassifier w TDIDF    0.860507             0.896557   \n",
       "\n",
       "                                Operating System  Phone Model  \\\n",
       "DecisionTreeClassifier                  0.964517     0.922139   \n",
       "KNeighborsClassifier                    0.958186     0.795330   \n",
       "LogisticRegression                      0.964149     0.915355   \n",
       "MultinomialNB                           0.929549     0.597839   \n",
       "RandomForestClassifier                  0.967830     0.908847   \n",
       "RandomForestClassifier w TDIDF          0.967241     0.907467   \n",
       "\n",
       "                                Phone Screen Size  Storage Capacity  \\\n",
       "DecisionTreeClassifier                   0.694668          0.935339   \n",
       "KNeighborsClassifier                     0.689469          0.821853   \n",
       "LogisticRegression                       0.705882          0.939667   \n",
       "MultinomialNB                            0.619737          0.872631   \n",
       "RandomForestClassifier                   0.716383          0.936764   \n",
       "RandomForestClassifier w TDIDF           0.702518          0.936078   \n",
       "\n",
       "                                Warranty Period  \n",
       "DecisionTreeClassifier                 0.816114  \n",
       "KNeighborsClassifier                   0.838372  \n",
       "LogisticRegression                     0.842532  \n",
       "MultinomialNB                          0.816461  \n",
       "RandomForestClassifier                 0.851754  \n",
       "RandomForestClassifier w TDIDF         0.851824  "
      ]
     },
     "execution_count": 26,
     "metadata": {
      "tags": []
     },
     "output_type": "execute_result"
    }
   ],
   "source": [
    "temp=pd.DataFrame.from_dict(performance2)\n",
    "temp.to_csv('performance_mobile.csv',index=False)\n",
    "temp\n"
   ]
  },
  {
   "cell_type": "markdown",
   "metadata": {
    "colab_type": "text",
    "id": "CBAaEwIyz1wg"
   },
   "source": [
    "# Format data for submission"
   ]
  }
 ],
 "metadata": {
  "colab": {
   "collapsed_sections": [],
   "name": "1 Machine Learning.ipynb",
   "provenance": [],
   "toc_visible": true,
   "version": "0.3.2"
  },
  "kernelspec": {
   "display_name": "Python 3",
   "language": "python",
   "name": "python3"
  },
  "language_info": {
   "codemirror_mode": {
    "name": "ipython",
    "version": 3
   },
   "file_extension": ".py",
   "mimetype": "text/x-python",
   "name": "python",
   "nbconvert_exporter": "python",
   "pygments_lexer": "ipython3",
   "version": "3.7.0"
  },
  "toc": {
   "base_numbering": 1,
   "nav_menu": {},
   "number_sections": true,
   "sideBar": true,
   "skip_h1_title": false,
   "title_cell": "Table of Contents",
   "title_sidebar": "Contents",
   "toc_cell": false,
   "toc_position": {},
   "toc_section_display": true,
   "toc_window_display": true
  }
 },
 "nbformat": 4,
 "nbformat_minor": 1
}
